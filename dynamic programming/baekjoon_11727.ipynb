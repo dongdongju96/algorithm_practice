{
 "cells": [
  {
   "cell_type": "code",
   "execution_count": 8,
   "id": "9bd43aa5",
   "metadata": {},
   "outputs": [
    {
     "name": "stdout",
     "output_type": "stream",
     "text": [
      "12\n",
      "2731\n"
     ]
    }
   ],
   "source": [
    "n = int(input())\n",
    "\n",
    "d = [0]*1001\n",
    "\n",
    "d[1] = 1\n",
    "d[2] = 3\n",
    "\n",
    "for i in range(3,n+1):\n",
    "    d[i] = d[i-1] + d[i-2] * 2\n",
    "    \n",
    "print(d[n]%10007)"
   ]
  },
  {
   "cell_type": "markdown",
   "id": "7db62dc1",
   "metadata": {},
   "source": [
    "2x(N-1)만큼 타일링하고 2x1 타일을 붙인다.<br>\n",
    "2x(N-2)만큼 타일링하고 1x2 타일을 두 개 붙인다.<br>\n",
    "2x(N-2)만큼 타일링하고 2x2 타일을 한 개 붙인다.<br>"
   ]
  }
 ],
 "metadata": {
  "hide_input": false,
  "kernelspec": {
   "display_name": "datastory",
   "language": "python",
   "name": "datastory"
  },
  "language_info": {
   "codemirror_mode": {
    "name": "ipython",
    "version": 3
   },
   "file_extension": ".py",
   "mimetype": "text/x-python",
   "name": "python",
   "nbconvert_exporter": "python",
   "pygments_lexer": "ipython3",
   "version": "3.9.7"
  }
 },
 "nbformat": 4,
 "nbformat_minor": 5
}
