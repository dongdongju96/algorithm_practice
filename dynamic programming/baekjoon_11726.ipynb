{
 "cells": [
  {
   "cell_type": "code",
   "execution_count": null,
   "id": "ecf17222",
   "metadata": {},
   "outputs": [],
   "source": [
    "n = int(input())\n",
    "dp = [0] * 1001\n",
    "dp[1] = 1\n",
    "dp[2] = 2\n",
    "for i in range(3,n+1):\n",
    "    dp[i] = dp[i-1] + dp[i-2]\n",
    "    \n",
    "print(dp[n]%10007)"
   ]
  }
 ],
 "metadata": {
  "hide_input": false,
  "kernelspec": {
   "display_name": "datastory",
   "language": "python",
   "name": "datastory"
  },
  "language_info": {
   "codemirror_mode": {
    "name": "ipython",
    "version": 3
   },
   "file_extension": ".py",
   "mimetype": "text/x-python",
   "name": "python",
   "nbconvert_exporter": "python",
   "pygments_lexer": "ipython3",
   "version": "3.9.7"
  }
 },
 "nbformat": 4,
 "nbformat_minor": 5
}
