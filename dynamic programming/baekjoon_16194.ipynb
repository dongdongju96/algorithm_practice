{
 "cells": [
  {
   "cell_type": "code",
   "execution_count": null,
   "id": "f39532a4",
   "metadata": {},
   "outputs": [],
   "source": [
    "N = int(input())\n",
    "p = [0] + list(map(int, input().split()))\n",
    "d = [0] + [10001 for _ in range(N)]\n",
    "\n",
    "for card_n in range(1,N+1):\n",
    "    for small_p in range(1,card_n+1):\n",
    "        d[card_n] = min(d[card_n], d[card_n-small_p] + p[small_p])\n",
    "        \n",
    "print(d[N])"
   ]
  },
  {
   "cell_type": "markdown",
   "id": "ebc8ab1c",
   "metadata": {},
   "source": [
    "좀 더 설계하고 풀어 볼 것."
   ]
  },
  {
   "cell_type": "code",
   "execution_count": null,
   "id": "ed2a5e3c",
   "metadata": {},
   "outputs": [],
   "source": []
  }
 ],
 "metadata": {
  "hide_input": false,
  "kernelspec": {
   "display_name": "datastory",
   "language": "python",
   "name": "datastory"
  },
  "language_info": {
   "codemirror_mode": {
    "name": "ipython",
    "version": 3
   },
   "file_extension": ".py",
   "mimetype": "text/x-python",
   "name": "python",
   "nbconvert_exporter": "python",
   "pygments_lexer": "ipython3",
   "version": "3.9.7"
  }
 },
 "nbformat": 4,
 "nbformat_minor": 5
}
