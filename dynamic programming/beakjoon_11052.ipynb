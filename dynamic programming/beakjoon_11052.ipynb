{
 "cells": [
  {
   "cell_type": "code",
   "execution_count": null,
   "id": "e65edea6",
   "metadata": {},
   "outputs": [],
   "source": [
    "# 첫 번째 오답\n",
    "N = int(input())\n",
    "p_list = list(map(int,input().split()))\n",
    "d = [0]*(N+1)\n",
    "for i in range(1,N+1):\n",
    "    if i==1:\n",
    "        d[1] = p_list[0]\n",
    "    else:\n",
    "        d[i] = max(p_list[i-1]+p_list[0],p_list[i-1])\n",
    "        \n",
    "print(d[N])"
   ]
  },
  {
   "cell_type": "code",
   "execution_count": 3,
   "id": "4f050872",
   "metadata": {},
   "outputs": [
    {
     "name": "stdout",
     "output_type": "stream",
     "text": [
      "10 9 8 7 6\n"
     ]
    }
   ],
   "source": [
    "p_list = list(map(int,input().split()))"
   ]
  },
  {
   "cell_type": "code",
   "execution_count": 4,
   "id": "5ea09448",
   "metadata": {},
   "outputs": [
    {
     "data": {
      "text/plain": [
       "[10, 9, 8, 7, 6]"
      ]
     },
     "execution_count": 4,
     "metadata": {},
     "output_type": "execute_result"
    }
   ],
   "source": [
    "p_list"
   ]
  },
  {
   "cell_type": "code",
   "execution_count": null,
   "id": "6e301246",
   "metadata": {},
   "outputs": [],
   "source": [
    "# 풀이 본 후 정답\n",
    "N = int(input())\n",
    "p_list = [0] + list(map(int,input().split()))\n",
    "d = [0]*(N+1)\n",
    "for i in range(0,N+1):\n",
    "    for j in range(0,i+1):\n",
    "        d[i] = max(d[i], p_list[i-j] + d[j])\n",
    "        \n",
    "print(d[N])"
   ]
  }
 ],
 "metadata": {
  "hide_input": false,
  "kernelspec": {
   "display_name": "datastory",
   "language": "python",
   "name": "datastory"
  },
  "language_info": {
   "codemirror_mode": {
    "name": "ipython",
    "version": 3
   },
   "file_extension": ".py",
   "mimetype": "text/x-python",
   "name": "python",
   "nbconvert_exporter": "python",
   "pygments_lexer": "ipython3",
   "version": "3.9.7"
  }
 },
 "nbformat": 4,
 "nbformat_minor": 5
}
