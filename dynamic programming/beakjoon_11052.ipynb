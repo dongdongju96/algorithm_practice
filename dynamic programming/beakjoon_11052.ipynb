{
 "cells": [
  {
   "cell_type": "code",
   "execution_count": 14,
   "id": "ac21da1a",
   "metadata": {},
   "outputs": [
    {
     "name": "stdout",
     "output_type": "stream",
     "text": [
      "5\n",
      "10 9 8 7 6\n"
     ]
    }
   ],
   "source": [
    "N = int(input())\n",
    "p_list = list(map(int,input().split()))"
   ]
  },
  {
   "cell_type": "code",
   "execution_count": 15,
   "id": "5ef49e02",
   "metadata": {},
   "outputs": [],
   "source": [
    "d = [0]*(N+1)"
   ]
  },
  {
   "cell_type": "code",
   "execution_count": 2,
   "id": "3e229e3e",
   "metadata": {},
   "outputs": [
    {
     "data": {
      "text/plain": [
       "[0, 10, 9, 8, 7, 6]"
      ]
     },
     "execution_count": 2,
     "metadata": {},
     "output_type": "execute_result"
    }
   ],
   "source": [
    "p_list"
   ]
  },
  {
   "cell_type": "code",
   "execution_count": 3,
   "id": "175c519c",
   "metadata": {},
   "outputs": [
    {
     "name": "stdout",
     "output_type": "stream",
     "text": [
      "10 9 8 7 6\n"
     ]
    }
   ],
   "source": [
    "p_list = list(map(int,input().split()))"
   ]
  },
  {
   "cell_type": "code",
   "execution_count": 4,
   "id": "e03004bd",
   "metadata": {},
   "outputs": [
    {
     "data": {
      "text/plain": [
       "[10, 9, 8, 7, 6]"
      ]
     },
     "execution_count": 4,
     "metadata": {},
     "output_type": "execute_result"
    }
   ],
   "source": [
    "p_list"
   ]
  },
  {
   "cell_type": "code",
   "execution_count": null,
   "id": "bf97668f",
   "metadata": {},
   "outputs": [],
   "source": [
    "N = int(input())\n",
    "p_list = [0] + list(map(int,input().split()))\n",
    "d = [0]*(N+1)\n",
    "for i in range(0,N+1):\n",
    "    for j in range(0,i+1):\n",
    "        d[i] = max(d[i], p_list[i-j] + d[j])\n",
    "        \n",
    "print(d[N])"
   ]
  }
 ],
 "metadata": {
  "hide_input": false,
  "kernelspec": {
   "display_name": "datastory",
   "language": "python",
   "name": "datastory"
  },
  "language_info": {
   "codemirror_mode": {
    "name": "ipython",
    "version": 3
   },
   "file_extension": ".py",
   "mimetype": "text/x-python",
   "name": "python",
   "nbconvert_exporter": "python",
   "pygments_lexer": "ipython3",
   "version": "3.9.7"
  }
 },
 "nbformat": 4,
 "nbformat_minor": 5
}
