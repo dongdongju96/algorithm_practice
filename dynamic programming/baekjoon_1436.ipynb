{
 "cells": [
  {
   "cell_type": "code",
   "execution_count": 1,
   "id": "f4cc6ef3",
   "metadata": {},
   "outputs": [
    {
     "name": "stdout",
     "output_type": "stream",
     "text": [
      "10\n",
      "3\n"
     ]
    }
   ],
   "source": [
    "n = int(input())\n",
    "\n",
    "dp = [0] * (n+1) # dp[n]을 했을 때 index에러 방지\n",
    "\n",
    "for i in range(2,n+1): # 0은 제외 dp[1]인 경우 최수 횟수 0회이기 때문에 2부터 시작\n",
    "    dp[i] = dp[i-1] + 1 # 2인경우 -1 해서 1로 만듬 횟수 + 1, 다른 숫자의 경우 -1 한것의 최소횟수 + 1\n",
    "    if i%3==0:\n",
    "        dp[i] = min(dp[i], dp[i//3] + 1)\n",
    "    if i%2==0:\n",
    "        dp[i] = min(dp[i], dp[i//2] + 1)\n",
    "        \n",
    "print(dp[n])"
   ]
  },
  {
   "cell_type": "markdown",
   "id": "dbfbccb1",
   "metadata": {},
   "source": [
    "n이 10 일때 9일 때 최소횟수 + 1 또는 5일 때 최소횟수 + 1 둘 중에 수가 작은것"
   ]
  },
  {
   "cell_type": "code",
   "execution_count": null,
   "id": "56971fcd",
   "metadata": {},
   "outputs": [],
   "source": []
  }
 ],
 "metadata": {
  "hide_input": false,
  "kernelspec": {
   "display_name": "datastory",
   "language": "python",
   "name": "datastory"
  },
  "language_info": {
   "codemirror_mode": {
    "name": "ipython",
    "version": 3
   },
   "file_extension": ".py",
   "mimetype": "text/x-python",
   "name": "python",
   "nbconvert_exporter": "python",
   "pygments_lexer": "ipython3",
   "version": "3.9.7"
  }
 },
 "nbformat": 4,
 "nbformat_minor": 5
}
