{
 "cells": [
  {
   "cell_type": "markdown",
   "id": "8cb3007a",
   "metadata": {},
   "source": [
    "# 내가 짠거"
   ]
  },
  {
   "cell_type": "code",
   "execution_count": 17,
   "id": "d44b772f",
   "metadata": {},
   "outputs": [
    {
     "name": "stdout",
     "output_type": "stream",
     "text": [
      "10 4790\n",
      "1\n",
      "5\n",
      "10\n",
      "50\n",
      "100\n",
      "500\n",
      "1000\n",
      "5000\n",
      "10000\n",
      "50000\n",
      "12\n"
     ]
    }
   ],
   "source": [
    "N, K = map(int,input().split())\n",
    "\n",
    "cnt = 0\n",
    "value_list = []\n",
    "\n",
    "for i in range(N):\n",
    "    value_list.append(int(input()))\n",
    "\n",
    "for i in reversed(value_list):\n",
    "    if K >= i:\n",
    "        q = K // i\n",
    "        cnt += q\n",
    "        K = K - (i*q)\n",
    "    else:\n",
    "        pass\n",
    "print(cnt)"
   ]
  },
  {
   "cell_type": "markdown",
   "id": "c5168e3c",
   "metadata": {},
   "source": [
    "# 다른 사람이 짠거"
   ]
  },
  {
   "cell_type": "code",
   "execution_count": null,
   "id": "dbbf072f",
   "metadata": {},
   "outputs": [],
   "source": [
    "N, K = map(int,input().split())\n",
    "arr = [int(input()) for _ in range(N)]\n",
    "cnt, idx = 0, N-1\n",
    "\n",
    "while K > 0:\n",
    "    if arr[idx] > K:\n",
    "        idx -= 1\n",
    "    else:\n",
    "        cnt += K//arr[idx]\n",
    "        K %= arr[idx]\n",
    "print(cnt)"
   ]
  },
  {
   "cell_type": "markdown",
   "id": "1ed1e64e",
   "metadata": {},
   "source": [
    "시간은 같았다."
   ]
  },
  {
   "cell_type": "code",
   "execution_count": null,
   "id": "39b4231e",
   "metadata": {},
   "outputs": [],
   "source": []
  }
 ],
 "metadata": {
  "kernelspec": {
   "display_name": "Python 3",
   "language": "python",
   "name": "python3"
  },
  "language_info": {
   "codemirror_mode": {
    "name": "ipython",
    "version": 3
   },
   "file_extension": ".py",
   "mimetype": "text/x-python",
   "name": "python",
   "nbconvert_exporter": "python",
   "pygments_lexer": "ipython3",
   "version": "3.8.8"
  }
 },
 "nbformat": 4,
 "nbformat_minor": 5
}
