{
 "cells": [
  {
   "cell_type": "markdown",
   "id": "30042fe4",
   "metadata": {},
   "source": [
    "회의 시작 끝 시간의 차이가 가장 작은 회의부터 카운트"
   ]
  },
  {
   "cell_type": "code",
   "execution_count": 68,
   "id": "db829767",
   "metadata": {},
   "outputs": [],
   "source": [
    "# N = int(input())\n",
    "\n",
    "# dict = {}\n",
    "# last = 0\n",
    "# cnt = 0\n",
    "# meet_list = []\n",
    "\n",
    "# for i in range(N):\n",
    "#     start, end = map(int,input().split())\n",
    "#     key = end - start\n",
    "#     if key in dict:\n",
    "#         dict[key].append([start, end])\n",
    "#     else:\n",
    "#         dict[key] = [[start, end]]\n",
    "\n",
    "# for k in dict.keys():\n",
    "#     dict[k].sort()\n",
    "        \n",
    "# for k in dict.keys():\n",
    "#     for s, e in dict[k]:\n",
    "#         if not meet_list:\n",
    "#             cnt += 1\n",
    "#             meet_list.append(s)\n",
    "#             meet_list.append(e)\n",
    "#         elif:\n",
    "#             for i in meet_list:\n",
    "#                 if i >= s\n",
    "# # 막힘        "
   ]
  },
  {
   "cell_type": "markdown",
   "id": "838a1513",
   "metadata": {},
   "source": [
    "다른사람의 풀이 한번 보고 생각해서 작성 "
   ]
  },
  {
   "cell_type": "code",
   "execution_count": 72,
   "id": "3aecd4eb",
   "metadata": {},
   "outputs": [
    {
     "name": "stdout",
     "output_type": "stream",
     "text": [
      "11\n",
      "1 4\n",
      "3 5\n",
      "0 6\n",
      "5 7\n",
      "3 8\n",
      "5 9\n",
      "6 10\n",
      "8 11\n",
      "8 12\n",
      "2 13\n",
      "12 14\n",
      "4\n"
     ]
    }
   ],
   "source": [
    "N = int(input())\n",
    "\n",
    "end_time = 0\n",
    "cnt = 0\n",
    "meet_list = []\n",
    "for i in range(N):\n",
    "    start, end = map(int,input().split())\n",
    "    meet_list.append([start,end])\n",
    "\n",
    "meet_list = sorted(meet_list, key=(lambda x : x[0]))\n",
    "meet_list = sorted(meet_list, key=(lambda x : x[1]))\n",
    "\n",
    "for s, e in meet_list:\n",
    "    if s >= end_time:\n",
    "        cnt += 1\n",
    "        end_time = e\n",
    "print(cnt)\n",
    "\n",
    "## 결과 많이 느렸다."
   ]
  },
  {
   "cell_type": "markdown",
   "id": "b5e1d39c",
   "metadata": {},
   "source": [
    "결과 : 메모리 46408KB<br>\n",
    "시간 : 4732ms"
   ]
  },
  {
   "cell_type": "code",
   "execution_count": null,
   "id": "da1762d8",
   "metadata": {},
   "outputs": [],
   "source": []
  }
 ],
 "metadata": {
  "kernelspec": {
   "display_name": "Python 3",
   "language": "python",
   "name": "python3"
  },
  "language_info": {
   "codemirror_mode": {
    "name": "ipython",
    "version": 3
   },
   "file_extension": ".py",
   "mimetype": "text/x-python",
   "name": "python",
   "nbconvert_exporter": "python",
   "pygments_lexer": "ipython3",
   "version": "3.8.8"
  }
 },
 "nbformat": 4,
 "nbformat_minor": 5
}
