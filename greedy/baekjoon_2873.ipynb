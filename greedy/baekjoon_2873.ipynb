{
 "cells": [
  {
   "cell_type": "markdown",
   "id": "3cd1f22e",
   "metadata": {},
   "source": [
    "행과 열이 짝수인 경우를 생각했을 때<p>\n",
    "구현 방법이 떠오르지 않아서<p>\n",
    "    다른 사람들의 답을 봤지만<p>\n",
    "        아직은 때가 아닌것 같아 패쓰."
   ]
  }
 ],
 "metadata": {
  "kernelspec": {
   "display_name": "Python 3",
   "language": "python",
   "name": "python3"
  },
  "language_info": {
   "codemirror_mode": {
    "name": "ipython",
    "version": 3
   },
   "file_extension": ".py",
   "mimetype": "text/x-python",
   "name": "python",
   "nbconvert_exporter": "python",
   "pygments_lexer": "ipython3",
   "version": "3.8.8"
  }
 },
 "nbformat": 4,
 "nbformat_minor": 5
}
