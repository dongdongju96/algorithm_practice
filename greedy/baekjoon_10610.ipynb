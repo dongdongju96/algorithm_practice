{
 "cells": [
  {
   "cell_type": "markdown",
   "id": "d46e8384",
   "metadata": {},
   "source": [
    "# Try"
   ]
  },
  {
   "cell_type": "markdown",
   "id": "14200faa",
   "metadata": {},
   "source": [
    "예전에 한번 풀이를 봤던 것 <p>\n",
    "30의 배수가 되기 위한 조건은 끝자리가 0이고 3의 배수여야한다.<p>\n",
    "위키의 [배수 판정법](https://ko.wikipedia.org/wiki/%EB%B0%B0%EC%88%98_%ED%8C%90%EC%A0%95%EB%B2%95)"
   ]
  },
  {
   "cell_type": "code",
   "execution_count": 79,
   "id": "6cc322b2",
   "metadata": {},
   "outputs": [
    {
     "name": "stdout",
     "output_type": "stream",
     "text": [
      "30\n",
      "30\n"
     ]
    }
   ],
   "source": [
    "N = [num for num in input()]\n",
    "if '0' in N:\n",
    "    N.sort(reverse=True)\n",
    "    result = int(''.join(N))\n",
    "    if result%3==0:\n",
    "        print(result)\n",
    "    else:\n",
    "        print(-1)\n",
    "else:\n",
    "    print(-1)"
   ]
  },
  {
   "cell_type": "code",
   "execution_count": null,
   "id": "2f63cd63",
   "metadata": {},
   "outputs": [],
   "source": []
  }
 ],
 "metadata": {
  "kernelspec": {
   "display_name": "Python 3",
   "language": "python",
   "name": "python3"
  },
  "language_info": {
   "codemirror_mode": {
    "name": "ipython",
    "version": 3
   },
   "file_extension": ".py",
   "mimetype": "text/x-python",
   "name": "python",
   "nbconvert_exporter": "python",
   "pygments_lexer": "ipython3",
   "version": "3.8.8"
  }
 },
 "nbformat": 4,
 "nbformat_minor": 5
}
