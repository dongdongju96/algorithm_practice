{
 "cells": [
  {
   "cell_type": "markdown",
   "id": "63e278bb",
   "metadata": {},
   "source": [
    "# 내가 짠 코드"
   ]
  },
  {
   "cell_type": "code",
   "execution_count": 13,
   "id": "6e37c508",
   "metadata": {},
   "outputs": [
    {
     "name": "stdout",
     "output_type": "stream",
     "text": [
      "6 3 2\n",
      "2\n"
     ]
    }
   ],
   "source": [
    "N, M, K = map(int,input().split())\n",
    "team = 0\n",
    "\n",
    "while K >= 1:\n",
    "    if N >= 2 and M >= 1 and (N + M) >= (K + 3):\n",
    "        if N > 2*M:\n",
    "            N -= 1\n",
    "            K -= 1\n",
    "            team += 1\n",
    "        else:\n",
    "            M -= 1\n",
    "            K -= 1\n",
    "            team += 1\n",
    "    else:\n",
    "        K -= 1\n",
    "print(team)"
   ]
  },
  {
   "cell_type": "code",
   "execution_count": 14,
   "id": "533343df",
   "metadata": {},
   "outputs": [
    {
     "name": "stdout",
     "output_type": "stream",
     "text": [
      "6 3 2\n",
      "2\n"
     ]
    }
   ],
   "source": [
    "N, M, K = map(int,input().split())\n",
    "team = 0\n",
    "\n",
    "while K >= 1:\n",
    "    if N >= 2 and M >= 1 and (N + M) >= (K + 3):\n",
    "            N -= 2\n",
    "            M -= 1\n",
    "            K -= 1\n",
    "            team += 1\n",
    "\n",
    "print(team)"
   ]
  },
  {
   "cell_type": "code",
   "execution_count": 16,
   "id": "4c11406c",
   "metadata": {},
   "outputs": [
    {
     "name": "stdout",
     "output_type": "stream",
     "text": [
      "6 3 2\n",
      "2\n"
     ]
    }
   ],
   "source": [
    "N, M, K = map(int,input().split())\n",
    "team = 0\n",
    "\n",
    "while N >= 2 and M >= 1 and (N + M) >= (K + 3): # k 개수를 차감하지않고 다른 거의 개수를 빼면서 일정 기준 될 때 까지는 만족한다고 보는거지\n",
    "        N -= 2\n",
    "        M -= 1\n",
    "        team += 1\n",
    "\n",
    "print(team)"
   ]
  },
  {
   "cell_type": "markdown",
   "id": "6ebc542b",
   "metadata": {},
   "source": [
    "# 다른사람 코드"
   ]
  },
  {
   "cell_type": "code",
   "execution_count": null,
   "id": "dde48087",
   "metadata": {},
   "outputs": [],
   "source": [
    "n, m, k = map(int, input().split()) # n 여학생 수, m 남학생 수, k 인턴쉽 학생 수\n",
    "result = 0\n",
    "\n",
    "while n >= 2 and m >= 1 and n + m >= k + 3: # 2명 , 1명 팀 만들 수 있고, 인턴쉽도 보낼 수 있는 수 일때\n",
    "    n -= 2 # 빼주고\n",
    "    m -= 1 # 빼주고\n",
    "    result += 1 # 팀 수는 하나씩 더해준다\n",
    "print(result)"
   ]
  }
 ],
 "metadata": {
  "kernelspec": {
   "display_name": "Python 3",
   "language": "python",
   "name": "python3"
  },
  "language_info": {
   "codemirror_mode": {
    "name": "ipython",
    "version": 3
   },
   "file_extension": ".py",
   "mimetype": "text/x-python",
   "name": "python",
   "nbconvert_exporter": "python",
   "pygments_lexer": "ipython3",
   "version": "3.8.8"
  }
 },
 "nbformat": 4,
 "nbformat_minor": 5
}
