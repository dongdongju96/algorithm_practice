{
 "cells": [
  {
   "cell_type": "markdown",
   "id": "774e58ce",
   "metadata": {},
   "source": [
    "경우의 수를 생각해서 푸는 문제<br>\n",
    "그리디 방식과 차이점은 뭘까"
   ]
  },
  {
   "cell_type": "code",
   "execution_count": 5,
   "id": "5ec8e88a",
   "metadata": {},
   "outputs": [
    {
     "name": "stdout",
     "output_type": "stream",
     "text": [
      "20 4\n",
      "4\n"
     ]
    }
   ],
   "source": [
    "N, M = map(int,input().split())\n",
    "\n",
    "if N==1:\n",
    "    result = 1\n",
    "elif N==2:\n",
    "    result = min(4,(M-1)//2 + 1)\n",
    "elif M < 7:\n",
    "    result = min(4,M)\n",
    "else:\n",
    "    result = M - 2\n",
    "print(result)"
   ]
  },
  {
   "cell_type": "code",
   "execution_count": 6,
   "id": "cc8f7746",
   "metadata": {},
   "outputs": [],
   "source": [
    "# N, M = map(int,input().split())\n",
    "\n",
    "# if N==1:\n",
    "#     result = 1\n",
    "# elif N==2:\n",
    "#     result = min(4,(M+1//2))\n",
    "# elif M < 7:\n",
    "#     result = min(4,M)\n",
    "# else:\n",
    "#     result = M - 2\n",
    "# print(result)"
   ]
  },
  {
   "cell_type": "code",
   "execution_count": null,
   "id": "b4914fc8",
   "metadata": {},
   "outputs": [],
   "source": [
    "# N, M = map(int,input().split())\n",
    "\n",
    "# if N==1:\n",
    "#     result = 1\n",
    "# elif N==2:\n",
    "#     result = min(4,(M//2)+1)\n",
    "# elif M < 7:\n",
    "#     result = min(4,M)\n",
    "# else:\n",
    "#     result = M - 2\n",
    "    \n",
    "# print(result)"
   ]
  }
 ],
 "metadata": {
  "kernelspec": {
   "display_name": "Python 3",
   "language": "python",
   "name": "python3"
  },
  "language_info": {
   "codemirror_mode": {
    "name": "ipython",
    "version": 3
   },
   "file_extension": ".py",
   "mimetype": "text/x-python",
   "name": "python",
   "nbconvert_exporter": "python",
   "pygments_lexer": "ipython3",
   "version": "3.8.8"
  }
 },
 "nbformat": 4,
 "nbformat_minor": 5
}
