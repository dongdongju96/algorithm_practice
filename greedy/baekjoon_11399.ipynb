{
 "cells": [
  {
   "cell_type": "code",
   "execution_count": 6,
   "id": "7ebf46d5",
   "metadata": {},
   "outputs": [
    {
     "name": "stdout",
     "output_type": "stream",
     "text": [
      "5\n",
      "3 1 4 3 2\n",
      "32\n"
     ]
    }
   ],
   "source": [
    "N = int(input())\n",
    "\n",
    "P = list(map(int,input().split()))\n",
    "P.sort() # 걸리는 시간이 적은 순으로 정렬\n",
    "\n",
    "total_time = 0 # 결과시간\n",
    "waiting_time = 0 # 앞사람 씉날때까지 기다리는 시간\n",
    "\n",
    "for i in range(N):\n",
    "    waiting_time += P[i] # 걸리시간이 꼐속 더해저서 대기 시간이 된다.\n",
    "    total_time += waiting_time # 대기시간을 모두 더하면 각 사람이 돈을 인출하는데 필요한 시간\n",
    "print(total_time)"
   ]
  },
  {
   "cell_type": "markdown",
   "id": "72715e9e",
   "metadata": {},
   "source": [
    "sys.stdin.readline은 언제 사용하는 걸까"
   ]
  },
  {
   "cell_type": "code",
   "execution_count": null,
   "id": "f14c7486",
   "metadata": {},
   "outputs": [],
   "source": []
  }
 ],
 "metadata": {
  "kernelspec": {
   "display_name": "Python 3",
   "language": "python",
   "name": "python3"
  },
  "language_info": {
   "codemirror_mode": {
    "name": "ipython",
    "version": 3
   },
   "file_extension": ".py",
   "mimetype": "text/x-python",
   "name": "python",
   "nbconvert_exporter": "python",
   "pygments_lexer": "ipython3",
   "version": "3.8.8"
  }
 },
 "nbformat": 4,
 "nbformat_minor": 5
}
