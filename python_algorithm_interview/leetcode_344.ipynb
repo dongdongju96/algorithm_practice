{
 "cells": [
  {
   "cell_type": "markdown",
   "id": "453e055b",
   "metadata": {},
   "source": [
    "Write a function that reverses a string. The input string is given as an array of characters s.<p>\n",
    "\n",
    "You must do this by modifying the input array in-place with O(1) extra memory."
   ]
  },
  {
   "cell_type": "code",
   "execution_count": 1,
   "id": "adf2d4b0",
   "metadata": {},
   "outputs": [],
   "source": [
    "class Solution(object):\n",
    "    def reverseString(self, s):\n",
    "        \"\"\"\n",
    "        :type s: List[str]\n",
    "        :rtype: None Do not return anything, modify s in-place instead.\n",
    "        \"\"\"\n",
    "        s = s.reverse() # list 배열 뒤집는 함수"
   ]
  },
  {
   "cell_type": "markdown",
   "id": "15deb17a",
   "metadata": {},
   "source": [
    "# 책에서"
   ]
  },
  {
   "cell_type": "markdown",
   "id": "3ce1e9fa",
   "metadata": {},
   "source": [
    "- 슬라이싱 방법"
   ]
  },
  {
   "cell_type": "code",
   "execution_count": null,
   "id": "9ebec0bc",
   "metadata": {},
   "outputs": [],
   "source": [
    "class Solution(object):\n",
    "    def reverseString(self, s):\n",
    "        \"\"\"\n",
    "        :type s: List[str]\n",
    "        :rtype: None Do not return anything, modify s in-place instead.\n",
    "        \"\"\"\n",
    "        s = s[::-1] # 공간복잡도를 O(1)로 제한해서 변수 할당을 처리하는데 제약으로 실패한다.\n",
    "        s[:] = s{::-1} # 이러한 트릭으로 해결 가능 하다."
   ]
  },
  {
   "cell_type": "markdown",
   "id": "c7d13166",
   "metadata": {},
   "source": [
    "- 투 포인터 방법"
   ]
  },
  {
   "cell_type": "code",
   "execution_count": null,
   "id": "d0579c22",
   "metadata": {},
   "outputs": [],
   "source": [
    "class Solution(object):\n",
    "    def reverseString(self, s):\n",
    "        \"\"\"\n",
    "        :type s: List[str]\n",
    "        :rtype: None Do not return anything, modify s in-place instead.\n",
    "        \"\"\"\n",
    "        left, right = 0, len(s)-1 # 왼쪽 시작에서 포인터 하나, 오른쪽 끝에서 포인터 하나\n",
    "        while left > right:\n",
    "            s[left], s[right] = s[right], s[left]\n",
    "            left += 1\n",
    "            right -= 1"
   ]
  }
 ],
 "metadata": {
  "kernelspec": {
   "display_name": "Python 3",
   "language": "python",
   "name": "python3"
  },
  "language_info": {
   "codemirror_mode": {
    "name": "ipython",
    "version": 3
   },
   "file_extension": ".py",
   "mimetype": "text/x-python",
   "name": "python",
   "nbconvert_exporter": "python",
   "pygments_lexer": "ipython3",
   "version": "3.8.8"
  }
 },
 "nbformat": 4,
 "nbformat_minor": 5
}
