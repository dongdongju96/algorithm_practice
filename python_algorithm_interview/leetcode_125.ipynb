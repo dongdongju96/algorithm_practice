{
 "cells": [
  {
   "cell_type": "code",
   "execution_count": 1,
   "id": "30fdfc2c",
   "metadata": {},
   "outputs": [],
   "source": [
    "class Solution(object):\n",
    "    def isPalindrome(self, s):\n",
    "        \"\"\"\n",
    "        :type s: str\n",
    "        :rtype: bool\n",
    "        \"\"\"\n",
    "        s = s.lower()\n",
    "        s = re.sub('[^a-z0-9]', '', s) # a to z, 0 to 9를 제외한 문자는 ''으로 치환\n",
    "        \n",
    "        return s == s[::-1] # s 뒤에서 부터"
   ]
  },
  {
   "cell_type": "markdown",
   "id": "affd0847",
   "metadata": {},
   "source": [
    " ^ 메타 문자를 사용할 경우에는 반대(not)라는 의미를 가진다"
   ]
  },
  {
   "cell_type": "markdown",
   "id": "7929ec34",
   "metadata": {},
   "source": [
    "list_name[start:end:step]"
   ]
  }
 ],
 "metadata": {
  "kernelspec": {
   "display_name": "Python 3",
   "language": "python",
   "name": "python3"
  },
  "language_info": {
   "codemirror_mode": {
    "name": "ipython",
    "version": 3
   },
   "file_extension": ".py",
   "mimetype": "text/x-python",
   "name": "python",
   "nbconvert_exporter": "python",
   "pygments_lexer": "ipython3",
   "version": "3.8.8"
  }
 },
 "nbformat": 4,
 "nbformat_minor": 5
}
