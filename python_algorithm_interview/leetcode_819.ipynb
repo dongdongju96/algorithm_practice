{
 "cells": [
  {
   "cell_type": "code",
   "execution_count": 4,
   "id": "0f12b305",
   "metadata": {},
   "outputs": [],
   "source": [
    "import re"
   ]
  },
  {
   "cell_type": "code",
   "execution_count": 19,
   "id": "fc204b6a",
   "metadata": {},
   "outputs": [],
   "source": [
    "from collections import Counter"
   ]
  },
  {
   "cell_type": "code",
   "execution_count": 37,
   "id": "8ea5f5be",
   "metadata": {},
   "outputs": [
    {
     "name": "stdout",
     "output_type": "stream",
     "text": [
      "ball\n"
     ]
    }
   ],
   "source": [
    "class Solution(object):\n",
    "    def mostCommonWord(self, paragraph, banned):\n",
    "        \"\"\"\n",
    "        :type paragraph: str\n",
    "        :type banned: List[str]\n",
    "        :rtype: str\n",
    "        \"\"\"\n",
    "        paragraph = re.sub('[^a-z]',' ',paragraph.lower())\n",
    "        paragraph = Counter(paragraph.split()).most_common()\n",
    "        for i in paragraph:\n",
    "            if i[0]!=banned[0]:\n",
    "                print(i[0])\n",
    "                break"
   ]
  },
  {
   "cell_type": "markdown",
   "id": "b516401e",
   "metadata": {},
   "source": [
    "output = null로 실패"
   ]
  },
  {
   "cell_type": "code",
   "execution_count": null,
   "id": "cb33a6fd",
   "metadata": {},
   "outputs": [],
   "source": [
    "class Solution(object):\n",
    "    def mostCommonWord(self, paragraph, banned):\n",
    "        \"\"\"\n",
    "        :type paragraph: str\n",
    "        :type banned: List[str]\n",
    "        :rtype: str\n",
    "        \"\"\"\n",
    "        paragraph = re.sub('[^a-z]',' ',paragraph.lower())\n",
    "        paragraph = Counter(paragraph.split()).most_common()\n",
    "        for i in paragraph:\n",
    "            if i[0]!=banned[0]:\n",
    "                result = i[0]\n",
    "                break\n",
    "        return result"
   ]
  },
  {
   "cell_type": "markdown",
   "id": "6118975d",
   "metadata": {},
   "source": [
    "banned가 [] 인경우 에러"
   ]
  },
  {
   "cell_type": "markdown",
   "id": "5a9f02fc",
   "metadata": {},
   "source": [
    "# 책 풀이"
   ]
  },
  {
   "cell_type": "code",
   "execution_count": null,
   "id": "a5dd0264",
   "metadata": {},
   "outputs": [],
   "source": [
    "class Solution(object):\n",
    "    def mostCommonWord(self, paragraph, banned):\n",
    "        \"\"\"\n",
    "        :type paragraph: str\n",
    "        :type banned: List[str]\n",
    "        :rtype: str\n",
    "        \"\"\"\n",
    "        words = [word for word in re.sub('[^\\w]',' ',paragraph).lower().split() if word not in banned] \n",
    "        return collections.Counter(words).most_common(1)[0][0]"
   ]
  }
 ],
 "metadata": {
  "kernelspec": {
   "display_name": "Python 3",
   "language": "python",
   "name": "python3"
  },
  "language_info": {
   "codemirror_mode": {
    "name": "ipython",
    "version": 3
   },
   "file_extension": ".py",
   "mimetype": "text/x-python",
   "name": "python",
   "nbconvert_exporter": "python",
   "pygments_lexer": "ipython3",
   "version": "3.8.8"
  }
 },
 "nbformat": 4,
 "nbformat_minor": 5
}
