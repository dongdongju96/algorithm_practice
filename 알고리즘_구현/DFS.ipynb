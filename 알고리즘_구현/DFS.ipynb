{
 "cells": [
  {
   "cell_type": "code",
   "execution_count": 3,
   "id": "7b39049f",
   "metadata": {},
   "outputs": [],
   "source": [
    "graph = [\n",
    "    [],\n",
    "    [2, 3, 8],\n",
    "    [1, 7],\n",
    "    [1, 4, 5],\n",
    "    [3, 5],\n",
    "    [3, 4],\n",
    "    [7],\n",
    "    [2, 6, 8],\n",
    "    [1, 7]\n",
    "]"
   ]
  },
  {
   "cell_type": "code",
   "execution_count": 6,
   "id": "cc44b25b",
   "metadata": {},
   "outputs": [],
   "source": [
    "# 오류\n",
    "def dfs(graph,start):\n",
    "    visited = []\n",
    "    que = []\n",
    "    que.append(start)\n",
    "    visited.append(start)\n",
    "    \n",
    "    while que:\n",
    "        node = que[-1]\n",
    "        for adj in graph[node]:\n",
    "            if adj not in visited:\n",
    "                que.append(adj)\n",
    "                visited.append(adj)\n",
    "        que.pop()\n",
    "        dfs(graph,que[-1])"
   ]
  },
  {
   "cell_type": "code",
   "execution_count": 8,
   "id": "32879636",
   "metadata": {},
   "outputs": [],
   "source": [
    "# 재귀적으로 구현 재귀호출은 메모리에 스택하는것과 같다.\n",
    "def dfs(graph, start, visited = []):\n",
    "    visited.append(start)\n",
    "    for adj in graph[start]:\n",
    "        if adj not in visited:\n",
    "            dfs(graph,adj,visited)\n",
    "    return visited"
   ]
  },
  {
   "cell_type": "code",
   "execution_count": 9,
   "id": "09b25347",
   "metadata": {},
   "outputs": [
    {
     "data": {
      "text/plain": [
       "[1, 2, 7, 6, 8, 3, 4, 5]"
      ]
     },
     "execution_count": 9,
     "metadata": {},
     "output_type": "execute_result"
    }
   ],
   "source": [
    "dfs(graph,1)"
   ]
  }
 ],
 "metadata": {
  "hide_input": false,
  "kernelspec": {
   "display_name": "Python 3 (ipykernel)",
   "language": "python",
   "name": "python3"
  },
  "language_info": {
   "codemirror_mode": {
    "name": "ipython",
    "version": 3
   },
   "file_extension": ".py",
   "mimetype": "text/x-python",
   "name": "python",
   "nbconvert_exporter": "python",
   "pygments_lexer": "ipython3",
   "version": "3.9.7"
  }
 },
 "nbformat": 4,
 "nbformat_minor": 5
}
