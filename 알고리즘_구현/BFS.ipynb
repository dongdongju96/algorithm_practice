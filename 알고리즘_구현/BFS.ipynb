{
 "cells": [
  {
   "cell_type": "code",
   "execution_count": 1,
   "id": "c5eb2ee1",
   "metadata": {},
   "outputs": [],
   "source": [
    "from collections import deque"
   ]
  },
  {
   "cell_type": "code",
   "execution_count": 2,
   "id": "2ea1b1d8",
   "metadata": {},
   "outputs": [],
   "source": [
    "# 인터넷의 그래프 예제\n",
    "graph = {\n",
    "    'A': ['B'],\n",
    "    'B': ['A', 'C', 'H'],\n",
    "    'C': ['B', 'D'],\n",
    "    'D': ['C', 'E', 'G'],\n",
    "    'E': ['D', 'F'],\n",
    "    'F': ['E'],\n",
    "    'G': ['D'],\n",
    "    'H': ['B', 'I', 'J', 'M'],\n",
    "    'I': ['H'],\n",
    "    'J': ['H', 'K'],\n",
    "    'K': ['J', 'L'],\n",
    "    'L': ['K'],\n",
    "    'M': ['H']\n",
    "}\n",
    "\n",
    "start = 'B'"
   ]
  },
  {
   "cell_type": "code",
   "execution_count": 18,
   "id": "d33a2323",
   "metadata": {},
   "outputs": [],
   "source": [
    "def bfs(graph, start):\n",
    "    visited = [] # 방문한 노드 담을 리스트\n",
    "    que = deque([start]) # 1부터 시작\n",
    "    visited.append(start)\n",
    "    while que:\n",
    "        node = que.popleft()\n",
    "#         visited.append(node) 위에 없고 여기에 존재하면 중복 오류가 생긴다.\n",
    "        for adj in graph[node]:\n",
    "            if adj not in visited:\n",
    "                visited.append(adj)\n",
    "                que.append(adj)\n",
    "    return visited"
   ]
  },
  {
   "cell_type": "code",
   "execution_count": 19,
   "id": "f096286e",
   "metadata": {},
   "outputs": [],
   "source": [
    "graph = {1 : [2,3,4], 2 : [5], 3 : [5], 4 : [], 5 : [6, 7], 6 : [], 7 : [3]}\n",
    "start = 1"
   ]
  },
  {
   "cell_type": "code",
   "execution_count": 17,
   "id": "e71994e0",
   "metadata": {},
   "outputs": [
    {
     "data": {
      "text/plain": [
       "[1, 2, 3, 4, 2, 5, 3, 4, 5, 6, 7, 6, 7]"
      ]
     },
     "execution_count": 17,
     "metadata": {},
     "output_type": "execute_result"
    }
   ],
   "source": [
    "bfs(graph,start)"
   ]
  },
  {
   "cell_type": "code",
   "execution_count": 20,
   "id": "ddb1057a",
   "metadata": {},
   "outputs": [
    {
     "data": {
      "text/plain": [
       "[1, 2, 3, 4, 5, 6, 7]"
      ]
     },
     "execution_count": 20,
     "metadata": {},
     "output_type": "execute_result"
    }
   ],
   "source": [
    "bfs(graph,start)"
   ]
  },
  {
   "cell_type": "code",
   "execution_count": null,
   "id": "8783dc33",
   "metadata": {},
   "outputs": [],
   "source": []
  }
 ],
 "metadata": {
  "hide_input": false,
  "kernelspec": {
   "display_name": "Python 3 (ipykernel)",
   "language": "python",
   "name": "python3"
  },
  "language_info": {
   "codemirror_mode": {
    "name": "ipython",
    "version": 3
   },
   "file_extension": ".py",
   "mimetype": "text/x-python",
   "name": "python",
   "nbconvert_exporter": "python",
   "pygments_lexer": "ipython3",
   "version": "3.9.7"
  }
 },
 "nbformat": 4,
 "nbformat_minor": 5
}
