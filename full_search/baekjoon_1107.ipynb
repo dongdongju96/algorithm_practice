{
 "cells": [
  {
   "cell_type": "markdown",
   "id": "36527c36",
   "metadata": {},
   "source": [
    "전혀 다른방향으로간 첫 시도"
   ]
  },
  {
   "cell_type": "code",
   "execution_count": 12,
   "id": "d1709397",
   "metadata": {},
   "outputs": [
    {
     "name": "stdout",
     "output_type": "stream",
     "text": [
      "5457\n",
      "3\n",
      "6 7 8\n",
      "92\n"
     ]
    }
   ],
   "source": [
    "now = 100\n",
    "N = int(input()) # 이동 하고싶은 채널 str\n",
    "M = int(input()) # 고장난 버튼 개수\n",
    "error_button_list = list(map(int,input().split())) # 고장난 버튼\n",
    "if M!=len(error_button_list):\n",
    "    raise\n",
    "    \n",
    "move = N - now\n",
    "if move < 0:\n",
    "    move = -move\n",
    "\n",
    "# 이동하고 싶은 채널이 현재 채널 일때\n",
    "if N==now:\n",
    "    print(0)\n",
    "# 고장난 숫자 버튼이 없을 때\n",
    "elif M==0:\n",
    "    # 현재 채널과 차이가 번호를 누르느 것보다 크면 채널 자리수 출력\n",
    "    if move >= len(str(N)):\n",
    "        print(len(str(N)))\n",
    "    else:\n",
    "        print(move)\n",
    "# 모든 숫자가 고장난 버튼 일떄        \n",
    "elif M==10:\n",
    "    print(move)\n",
    "# 나머지\n",
    "else:\n",
    "    channel = str(N)\n",
    "    for num in channel:\n",
    "        target = int(num)\n",
    "        # +1 하면서 가까운 수 찾기\n",
    "        while target in error_button_list:\n",
    "            target += 1\n",
    "            if target >= 10:\n",
    "                target = int(num)\n",
    "                # -1 하면서 가까운 수 찾기        \n",
    "                while target in error_button_list:\n",
    "                    target -= 1\n",
    "                    if target < 0:\n",
    "                        raise\n",
    "                        \n",
    "    can_move_channel = []\n",
    "    can_move_channel.append(str(target))\n",
    "    result_channel = ''.join(can_move_channel)\n",
    "    move = int(result_channel) - now\n",
    "    if move < 0:\n",
    "        move = -move\n",
    "    print(len(result_channel)+move)"
   ]
  },
  {
   "cell_type": "markdown",
   "id": "84b19598",
   "metadata": {},
   "source": [
    "다른 사람의 풀이를 보고 두 번째 시도"
   ]
  },
  {
   "cell_type": "code",
   "execution_count": 23,
   "id": "f3253396",
   "metadata": {},
   "outputs": [
    {
     "name": "stdout",
     "output_type": "stream",
     "text": [
      "5457\n",
      "3\n",
      "6 7 8\n",
      "3\n"
     ]
    }
   ],
   "source": [
    "now =100\n",
    "N = int(input()) # 이동 하고싶은 채널\n",
    "M = int(input()) # 고장난 버튼 개수\n",
    "error_button_list = sorted(list(map(int,input().split()))) # 고장난 버튼\n",
    "if M!=len(error_button_list):\n",
    "    raise\n",
    "\n",
    "move = abs(N-100)\n",
    "channel_len = len(str(N))\n",
    "\n",
    "# 이동하고 싶은 채널이 현재 채널일때\n",
    "if N==now:\n",
    "    print(0)\n",
    "# 고장난 버튼이 없을 때\n",
    "elif M==0:\n",
    "    if move >= channel_len:\n",
    "        print(channel_len)\n",
    "    else:\n",
    "        print(move)\n",
    "else:\n",
    "    for i in range(1000001): # 이외 조건에서 모든 0~1000000\n",
    "        num = str(i)\n",
    "        # 모든 숫자를 다 눌러본다. 앞자리부터 고장났는지 체크\n",
    "        for j in num:\n",
    "            # 고장난 버튼이면 다음 수로 이동\n",
    "            if j in error_button_list:\n",
    "                break\n",
    "            # num의 마지막 수까지 고장나지 않았다면\n",
    "            elif j==num[-1]:\n",
    "                move = min(move, abs(i-100)+len(num))\n",
    "print(move)"
   ]
  },
  {
   "cell_type": "code",
   "execution_count": 24,
   "id": "a2604efe",
   "metadata": {},
   "outputs": [
    {
     "data": {
      "text/plain": [
       "'0'"
      ]
     },
     "execution_count": 24,
     "metadata": {},
     "output_type": "execute_result"
    }
   ],
   "source": [
    "num[-1]"
   ]
  },
  {
   "cell_type": "code",
   "execution_count": 25,
   "id": "fe731b54",
   "metadata": {},
   "outputs": [
    {
     "data": {
      "text/plain": [
       "'1000000'"
      ]
     },
     "execution_count": 25,
     "metadata": {},
     "output_type": "execute_result"
    }
   ],
   "source": [
    "num"
   ]
  },
  {
   "cell_type": "code",
   "execution_count": 26,
   "id": "42305bf6",
   "metadata": {},
   "outputs": [
    {
     "data": {
      "text/plain": [
       "3"
      ]
     },
     "execution_count": 26,
     "metadata": {},
     "output_type": "execute_result"
    }
   ],
   "source": [
    "move"
   ]
  },
  {
   "cell_type": "code",
   "execution_count": null,
   "id": "617745a6",
   "metadata": {},
   "outputs": [],
   "source": []
  }
 ],
 "metadata": {
  "kernelspec": {
   "display_name": "Python 3",
   "language": "python",
   "name": "python3"
  },
  "language_info": {
   "codemirror_mode": {
    "name": "ipython",
    "version": 3
   },
   "file_extension": ".py",
   "mimetype": "text/x-python",
   "name": "python",
   "nbconvert_exporter": "python",
   "pygments_lexer": "ipython3",
   "version": "3.8.8"
  }
 },
 "nbformat": 4,
 "nbformat_minor": 5
}
