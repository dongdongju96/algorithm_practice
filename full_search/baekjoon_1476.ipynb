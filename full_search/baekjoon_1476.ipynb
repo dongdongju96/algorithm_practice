{
 "cells": [
  {
   "cell_type": "markdown",
   "id": "3eef41db",
   "metadata": {},
   "source": [
    "# 첫 번째 시도"
   ]
  },
  {
   "cell_type": "code",
   "execution_count": 41,
   "id": "30be2909",
   "metadata": {},
   "outputs": [
    {
     "name": "stdout",
     "output_type": "stream",
     "text": [
      "1 2 3\n",
      "5266\n"
     ]
    }
   ],
   "source": [
    "E, S, M = map(int,input().split())\n",
    "temp_E = 0\n",
    "temp_S = 0\n",
    "temp_M = 0\n",
    "year = 0\n",
    "\n",
    "while temp_E!=E or temp_S!=S or temp_M!=M:\n",
    "    temp_E += 1\n",
    "    temp_S += 1\n",
    "    temp_M += 1\n",
    "    if temp_E==15:\n",
    "        temp_E=0\n",
    "    if temp_S==28:\n",
    "        temp_S=0\n",
    "    if temp_M==19:\n",
    "        temp_M=0\n",
    "    year += 1\n",
    "print(year)"
   ]
  },
  {
   "cell_type": "markdown",
   "id": "99b901f0",
   "metadata": {},
   "source": [
    "or, and 가 한번 헷갈렸다."
   ]
  },
  {
   "cell_type": "markdown",
   "id": "686c5be2",
   "metadata": {},
   "source": [
    "# 3분 뒤 두 번째 시도"
   ]
  },
  {
   "cell_type": "code",
   "execution_count": 42,
   "id": "1faefad6",
   "metadata": {},
   "outputs": [
    {
     "name": "stdout",
     "output_type": "stream",
     "text": [
      "15 28 19\n",
      "7980\n"
     ]
    }
   ],
   "source": [
    "E, S, M = map(int,input().split())\n",
    "temp_E = 0\n",
    "temp_S = 0\n",
    "temp_M = 0\n",
    "year = 0\n",
    "\n",
    "while temp_E!=E or temp_S!=S or temp_M!=M:\n",
    "    if temp_E==15:\n",
    "        temp_E=0\n",
    "    if temp_S==28:\n",
    "        temp_S=0\n",
    "    if temp_M==19:\n",
    "        temp_M=0\n",
    "    temp_E += 1\n",
    "    temp_S += 1\n",
    "    temp_M += 1\n",
    "    year += 1\n",
    "print(year)"
   ]
  },
  {
   "cell_type": "markdown",
   "id": "2a167013",
   "metadata": {},
   "source": [
    "메모리 29200KB<p>\n",
    "시간 80 ms"
   ]
  },
  {
   "cell_type": "code",
   "execution_count": null,
   "id": "3f0d1cb3",
   "metadata": {},
   "outputs": [],
   "source": []
  }
 ],
 "metadata": {
  "kernelspec": {
   "display_name": "Python 3",
   "language": "python",
   "name": "python3"
  },
  "language_info": {
   "codemirror_mode": {
    "name": "ipython",
    "version": 3
   },
   "file_extension": ".py",
   "mimetype": "text/x-python",
   "name": "python",
   "nbconvert_exporter": "python",
   "pygments_lexer": "ipython3",
   "version": "3.8.8"
  }
 },
 "nbformat": 4,
 "nbformat_minor": 5
}
