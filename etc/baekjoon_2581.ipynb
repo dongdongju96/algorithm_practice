{
 "cells": [
  {
   "cell_type": "code",
   "execution_count": 9,
   "id": "70faf464",
   "metadata": {},
   "outputs": [
    {
     "name": "stdout",
     "output_type": "stream",
     "text": [
      "60\n",
      "100\n",
      "620\n",
      "61\n"
     ]
    }
   ],
   "source": [
    "def check_prime(number):\n",
    "    for divider in range(2,number):\n",
    "        if number%divider==0:\n",
    "            return False\n",
    "    else:\n",
    "        return True\n",
    "\n",
    "start = int(input())\n",
    "end = int(input())\n",
    "result_list = []\n",
    "for i in range(start,end+1):\n",
    "    if check_prime(i):\n",
    "        result_list.append(i)\n",
    "if not result_list:\n",
    "    print(-1)\n",
    "else:\n",
    "    print(sum(result_list))\n",
    "    print(result_list[0])"
   ]
  },
  {
   "cell_type": "code",
   "execution_count": null,
   "id": "ef246ba4",
   "metadata": {},
   "outputs": [],
   "source": []
  }
 ],
 "metadata": {
  "kernelspec": {
   "display_name": "Python 3",
   "language": "python",
   "name": "python3"
  },
  "language_info": {
   "codemirror_mode": {
    "name": "ipython",
    "version": 3
   },
   "file_extension": ".py",
   "mimetype": "text/x-python",
   "name": "python",
   "nbconvert_exporter": "python",
   "pygments_lexer": "ipython3",
   "version": "3.8.8"
  }
 },
 "nbformat": 4,
 "nbformat_minor": 5
}
