{
 "cells": [
  {
   "cell_type": "code",
   "execution_count": 4,
   "id": "1f1e9f50",
   "metadata": {
    "scrolled": true
   },
   "outputs": [
    {
     "name": "stdout",
     "output_type": "stream",
     "text": [
      "(()[[]])([])\n"
     ]
    },
    {
     "data": {
      "text/plain": [
       "['(()[[]])([])']"
      ]
     },
     "execution_count": 4,
     "metadata": {},
     "output_type": "execute_result"
    }
   ],
   "source": [
    "input_v = input().split()\n",
    "input_v"
   ]
  },
  {
   "cell_type": "code",
   "execution_count": 5,
   "id": "3ed9c0a5",
   "metadata": {},
   "outputs": [
    {
     "data": {
      "text/plain": [
       "'(()[[]])([])'"
      ]
     },
     "execution_count": 5,
     "metadata": {},
     "output_type": "execute_result"
    }
   ],
   "source": [
    "input_v[0]"
   ]
  },
  {
   "cell_type": "code",
   "execution_count": 6,
   "id": "0b99df30",
   "metadata": {},
   "outputs": [
    {
     "name": "stdout",
     "output_type": "stream",
     "text": [
      "1 2 3\n"
     ]
    },
    {
     "data": {
      "text/plain": [
       "['1', '2', '3']"
      ]
     },
     "execution_count": 6,
     "metadata": {},
     "output_type": "execute_result"
    }
   ],
   "source": [
    "input().split()"
   ]
  },
  {
   "cell_type": "code",
   "execution_count": null,
   "id": "513dbc6b",
   "metadata": {},
   "outputs": [],
   "source": [
    "( 를 받고 ) 만나면 ->\n",
    "[ 를 받고 ] 이거 만나면\n",
    "\n",
    "이것도 재귀로\n",
    "\n",
    "\n",
    "개수가 짝수\n",
    "개수가 홀수면 바로 0\n",
    "\n",
    "짝수인데 잘못 닫는 경우가 있나 )()( 이런건가 ))((\n",
    "\n",
    "    "
   ]
  },
  {
   "cell_type": "code",
   "execution_count": 7,
   "id": "48c57235",
   "metadata": {},
   "outputs": [
    {
     "name": "stdout",
     "output_type": "stream",
     "text": [
      "(()[[]])([])\n"
     ]
    }
   ],
   "source": [
    "input_v =input()"
   ]
  },
  {
   "cell_type": "code",
   "execution_count": 8,
   "id": "a96597cf",
   "metadata": {},
   "outputs": [
    {
     "data": {
      "text/plain": [
       "'('"
      ]
     },
     "execution_count": 8,
     "metadata": {},
     "output_type": "execute_result"
    }
   ],
   "source": [
    "input_v[0]"
   ]
  },
  {
   "cell_type": "code",
   "execution_count": 9,
   "id": "bceb7190",
   "metadata": {},
   "outputs": [
    {
     "name": "stdout",
     "output_type": "stream",
     "text": [
      "(\n",
      "(\n",
      ")\n",
      "[\n",
      "[\n",
      "]\n",
      "]\n",
      ")\n",
      "(\n",
      "[\n",
      "]\n",
      ")\n"
     ]
    }
   ],
   "source": [
    "for i in input_v:\n",
    "    print(i)"
   ]
  },
  {
   "cell_type": "code",
   "execution_count": null,
   "id": "5e4e9d2b",
   "metadata": {},
   "outputs": [],
   "source": [
    "하나씩 받는다.\n",
    "닫히면 값을 저장한다.\n",
    "\n",
    "값이 저장되면 안에서 또 계산한다. 안에 아무것도 없으면 end"
   ]
  },
  {
   "cell_type": "code",
   "execution_count": null,
   "id": "d729f3f1",
   "metadata": {},
   "outputs": [],
   "source": [
    "def check(input_value):\n",
    "    for i in input_value:\n",
    "        temp = i\n",
    "        if i=='(':\n",
    "            \n",
    "if '('"
   ]
  }
 ],
 "metadata": {
  "kernelspec": {
   "display_name": "Python 3",
   "language": "python",
   "name": "python3"
  },
  "language_info": {
   "codemirror_mode": {
    "name": "ipython",
    "version": 3
   },
   "file_extension": ".py",
   "mimetype": "text/x-python",
   "name": "python",
   "nbconvert_exporter": "python",
   "pygments_lexer": "ipython3",
   "version": "3.8.8"
  }
 },
 "nbformat": 4,
 "nbformat_minor": 5
}
