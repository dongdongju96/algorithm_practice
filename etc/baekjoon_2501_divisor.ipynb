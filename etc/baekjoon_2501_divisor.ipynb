{
 "cells": [
  {
   "cell_type": "markdown",
   "id": "e598d218",
   "metadata": {},
   "source": [
    "# 약수 구하기"
   ]
  },
  {
   "cell_type": "code",
   "execution_count": 7,
   "id": "04144b24",
   "metadata": {},
   "outputs": [
    {
     "name": "stdout",
     "output_type": "stream",
     "text": [
      "3 0\n",
      "3\n"
     ]
    }
   ],
   "source": [
    "N, K =  map(int, input().split())\n",
    "divisor = []\n",
    "\n",
    "for div in range(1,N+1):\n",
    "    if N%div==0:\n",
    "        divisor.append(div)\n",
    "        \n",
    "if len(divisor) < K:\n",
    "    print(0)\n",
    "else:\n",
    "    print(divisor[K-1])"
   ]
  }
 ],
 "metadata": {
  "kernelspec": {
   "display_name": "Python 3",
   "language": "python",
   "name": "python3"
  },
  "language_info": {
   "codemirror_mode": {
    "name": "ipython",
    "version": 3
   },
   "file_extension": ".py",
   "mimetype": "text/x-python",
   "name": "python",
   "nbconvert_exporter": "python",
   "pygments_lexer": "ipython3",
   "version": "3.8.8"
  }
 },
 "nbformat": 4,
 "nbformat_minor": 5
}
