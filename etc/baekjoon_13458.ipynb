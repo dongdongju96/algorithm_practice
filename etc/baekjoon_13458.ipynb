{
 "cells": [
  {
   "cell_type": "code",
   "execution_count": 16,
   "id": "efaee270",
   "metadata": {},
   "outputs": [
    {
     "name": "stdout",
     "output_type": "stream",
     "text": [
      "3\n",
      "3 4 5\n",
      "2 2\n",
      "7\n"
     ]
    }
   ],
   "source": [
    "n = int(input())\n",
    "a_list = list(map(int, input().split()))\n",
    "if n==len(a_list):\n",
    "    b, c = map(int,input().split())\n",
    "    min_viewer = 0\n",
    "    for a in a_list:\n",
    "        remain_student = (a-b)\n",
    "        min_viewer += 1\n",
    "        if remain_student <= 0:\n",
    "            continue\n",
    "        else:\n",
    "            while remain_student > 0:\n",
    "                remain_student = remain_student-c\n",
    "                min_viewer += 1\n",
    "else:\n",
    "    raise Exception\n",
    "print(min_viewer)"
   ]
  },
  {
   "cell_type": "markdown",
   "id": "acadd787",
   "metadata": {},
   "source": [
    "시간초과"
   ]
  },
  {
   "cell_type": "markdown",
   "id": "bf78db8e",
   "metadata": {},
   "source": [
    "다른 사람 풀이 참고 후 작성"
   ]
  },
  {
   "cell_type": "code",
   "execution_count": 17,
   "id": "64c08d9b",
   "metadata": {},
   "outputs": [
    {
     "name": "stdout",
     "output_type": "stream",
     "text": [
      "3\n",
      "3 4 5\n",
      "2 2\n",
      "7\n"
     ]
    }
   ],
   "source": [
    "n = int(input())\n",
    "a_list = list(map(int, input().split()))\n",
    "if n==len(a_list):\n",
    "    b, c = map(int,input().split())\n",
    "    min_viewer = 0\n",
    "    for a in a_list:\n",
    "        remain_student = (a-b)\n",
    "        min_viewer += 1\n",
    "        if remain_student <= 0:\n",
    "            continue\n",
    "        else:\n",
    "            if remain_student%c>0:\n",
    "                min_viewer += remain_student//c + 1\n",
    "            else:\n",
    "                min_viewer += remain_student//c\n",
    "else:\n",
    "    raise Exception\n",
    "print(min_viewer)"
   ]
  },
  {
   "cell_type": "markdown",
   "id": "2ab15b40",
   "metadata": {},
   "source": [
    "다른사람 풀이"
   ]
  },
  {
   "cell_type": "code",
   "execution_count": null,
   "id": "654fdbca",
   "metadata": {},
   "outputs": [],
   "source": [
    "def solution():\n",
    "    answer = 0\n",
    "    \n",
    "    # Master 시행\n",
    "    for i in range(n):\n",
    "        if arr[i] > 0:\n",
    "            arr[i] -= master\n",
    "            answer += 1\n",
    "        if arr[i] > 0:\n",
    "            answer += arr[i]//sub\n",
    "            if arr[i]%sub != 0:\n",
    "                answer+= 1\n",
    "    return answer\n",
    "\n",
    "# 시험장 개수\n",
    "n = int(input())\n",
    "arr = list(map(int, input().split()))\n",
    "master, sub = map(int, input().split())\n",
    "print(solution())"
   ]
  }
 ],
 "metadata": {
  "kernelspec": {
   "display_name": "Python 3",
   "language": "python",
   "name": "python3"
  },
  "language_info": {
   "codemirror_mode": {
    "name": "ipython",
    "version": 3
   },
   "file_extension": ".py",
   "mimetype": "text/x-python",
   "name": "python",
   "nbconvert_exporter": "python",
   "pygments_lexer": "ipython3",
   "version": "3.8.8"
  }
 },
 "nbformat": 4,
 "nbformat_minor": 5
}
