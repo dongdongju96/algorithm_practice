{
 "cells": [
  {
   "cell_type": "code",
   "execution_count": 16,
   "id": "5a08ff83",
   "metadata": {},
   "outputs": [
    {
     "name": "stdout",
     "output_type": "stream",
     "text": [
      "3\n",
      "3 4 5\n",
      "2 2\n",
      "7\n"
     ]
    }
   ],
   "source": [
    "n = int(input())\n",
    "a_list = list(map(int, input().split()))\n",
    "if n==len(a_list):\n",
    "    b, c = map(int,input().split())\n",
    "    min_viewer = 0\n",
    "    for a in a_list:\n",
    "        remain_student = (a-b)\n",
    "        min_viewer += 1\n",
    "        if remain_student <= 0:\n",
    "            continue\n",
    "        else:\n",
    "            while remain_student > 0:\n",
    "                remain_student = remain_student-c\n",
    "                min_viewer += 1\n",
    "else:\n",
    "    raise Exception\n",
    "print(min_viewer)"
   ]
  },
  {
   "cell_type": "code",
   "execution_count": null,
   "id": "9af2077c",
   "metadata": {},
   "outputs": [],
   "source": []
  }
 ],
 "metadata": {
  "kernelspec": {
   "display_name": "Python 3",
   "language": "python",
   "name": "python3"
  },
  "language_info": {
   "codemirror_mode": {
    "name": "ipython",
    "version": 3
   },
   "file_extension": ".py",
   "mimetype": "text/x-python",
   "name": "python",
   "nbconvert_exporter": "python",
   "pygments_lexer": "ipython3",
   "version": "3.8.8"
  }
 },
 "nbformat": 4,
 "nbformat_minor": 5
}
