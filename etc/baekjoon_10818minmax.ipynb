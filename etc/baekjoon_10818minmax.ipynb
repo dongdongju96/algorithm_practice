{
 "cells": [
  {
   "cell_type": "markdown",
   "id": "7f454df4",
   "metadata": {},
   "source": [
    "# 첫 번째 시도"
   ]
  },
  {
   "cell_type": "code",
   "execution_count": 11,
   "id": "d2efde38",
   "metadata": {},
   "outputs": [
    {
     "name": "stdout",
     "output_type": "stream",
     "text": [
      "5\n",
      "20 10 35 30 7\n",
      "7 35\n"
     ]
    }
   ],
   "source": [
    "N = int(input())\n",
    "N_list = list(map(int,input().split()))\n",
    "\n",
    "Max = -1000000\n",
    "Min = 1000000\n",
    "\n",
    "for num in N_list:\n",
    "    if num >= Max:\n",
    "        Max = num\n",
    "    elif num <= Min:\n",
    "        Min = num\n",
    "    else:\n",
    "        pass\n",
    "print(Min, Max)"
   ]
  },
  {
   "cell_type": "markdown",
   "id": "0cf71748",
   "metadata": {},
   "source": [
    "# 두 번째 시도"
   ]
  },
  {
   "cell_type": "code",
   "execution_count": null,
   "id": "c004ab9d",
   "metadata": {},
   "outputs": [],
   "source": [
    "N = int(input())\n",
    "N_list = list(map(int,input().split()))\n",
    "\n",
    "Max = -1000000\n",
    "Min = 1000000\n",
    "\n",
    "for num in N_list:\n",
    "    if num >= Max:\n",
    "        Max = num\n",
    "    if num <= Min:\n",
    "        Min = num\n",
    "print(Min, Max)"
   ]
  }
 ],
 "metadata": {
  "kernelspec": {
   "display_name": "Python 3",
   "language": "python",
   "name": "python3"
  },
  "language_info": {
   "codemirror_mode": {
    "name": "ipython",
    "version": 3
   },
   "file_extension": ".py",
   "mimetype": "text/x-python",
   "name": "python",
   "nbconvert_exporter": "python",
   "pygments_lexer": "ipython3",
   "version": "3.8.8"
  }
 },
 "nbformat": 4,
 "nbformat_minor": 5
}
