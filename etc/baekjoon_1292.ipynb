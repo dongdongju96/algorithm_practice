{
 "cells": [
  {
   "cell_type": "code",
   "execution_count": 16,
   "id": "7f4b3923",
   "metadata": {},
   "outputs": [
    {
     "name": "stdout",
     "output_type": "stream",
     "text": [
      "3 7\n",
      "[2, 3, 3, 3, 4, 4, 4, 4]\n"
     ]
    }
   ],
   "source": [
    "start, end = map(int,input().split())\n",
    "number = 1\n",
    "result_list = []\n",
    "\n",
    "while len(result_list)<=end:\n",
    "    for _ in range(number):\n",
    "        result_list.append(number)\n",
    "    number += 1\n",
    "print(result_list[start-1:])"
   ]
  },
  {
   "cell_type": "code",
   "execution_count": 10,
   "id": "e4ad0165",
   "metadata": {},
   "outputs": [
    {
     "data": {
      "text/plain": [
       "39627"
      ]
     },
     "execution_count": 10,
     "metadata": {},
     "output_type": "execute_result"
    }
   ],
   "source": [
    "len(result_list)"
   ]
  },
  {
   "cell_type": "code",
   "execution_count": 17,
   "id": "1004356a",
   "metadata": {},
   "outputs": [
    {
     "data": {
      "text/plain": [
       "[1, 2, 2, 3, 3, 3, 4, 4, 4, 4]"
      ]
     },
     "execution_count": 17,
     "metadata": {},
     "output_type": "execute_result"
    }
   ],
   "source": [
    "result_list"
   ]
  },
  {
   "cell_type": "code",
   "execution_count": null,
   "id": "30a2e565",
   "metadata": {},
   "outputs": [],
   "source": []
  }
 ],
 "metadata": {
  "kernelspec": {
   "display_name": "Python 3",
   "language": "python",
   "name": "python3"
  },
  "language_info": {
   "codemirror_mode": {
    "name": "ipython",
    "version": 3
   },
   "file_extension": ".py",
   "mimetype": "text/x-python",
   "name": "python",
   "nbconvert_exporter": "python",
   "pygments_lexer": "ipython3",
   "version": "3.8.8"
  }
 },
 "nbformat": 4,
 "nbformat_minor": 5
}
