{
 "cells": [
  {
   "cell_type": "markdown",
   "id": "0b79c15a",
   "metadata": {},
   "source": [
    "# 첫 시도"
   ]
  },
  {
   "cell_type": "code",
   "execution_count": 19,
   "id": "da9e027e",
   "metadata": {},
   "outputs": [
    {
     "name": "stdout",
     "output_type": "stream",
     "text": [
      "4\n",
      "1\n",
      "3\n",
      "5\n",
      "7\n",
      "3\n"
     ]
    }
   ],
   "source": [
    "N = int(input())\n",
    "\n",
    "input_list = [int(input()) for _ in range(N)]\n",
    "cnt = 0\n",
    "\n",
    "for check in input_list:\n",
    "    if check == 1:\n",
    "        continue\n",
    "    for divider in range(2,check):\n",
    "        if check % divider != 0:\n",
    "            cnt += 1\n",
    "            break\n",
    "print(cnt)"
   ]
  },
  {
   "cell_type": "markdown",
   "id": "96395949",
   "metadata": {},
   "source": [
    "# 두 번째"
   ]
  },
  {
   "cell_type": "code",
   "execution_count": 24,
   "id": "381c6cc0",
   "metadata": {},
   "outputs": [
    {
     "name": "stdout",
     "output_type": "stream",
     "text": [
      "4\n",
      "1\n",
      "3\n",
      "5\n",
      "7\n",
      "3\n"
     ]
    }
   ],
   "source": [
    "N = int(input())\n",
    "\n",
    "input_list = [int(input()) for _ in range(N)]\n",
    "cnt = 0\n",
    "\n",
    "for check in input_list:\n",
    "    if check == 1:\n",
    "        continue\n",
    "    \n",
    "    for divider in range(2,check):\n",
    "        if check % divider == 0:\n",
    "            cnt -= 1\n",
    "            break\n",
    "print(cnt)"
   ]
  },
  {
   "cell_type": "markdown",
   "id": "fdcdca20",
   "metadata": {},
   "source": [
    "# 세 번째"
   ]
  },
  {
   "cell_type": "code",
   "execution_count": 28,
   "id": "8031cd7d",
   "metadata": {},
   "outputs": [
    {
     "name": "stdout",
     "output_type": "stream",
     "text": [
      "4\n",
      "1 3 5 7\n",
      "3\n"
     ]
    }
   ],
   "source": [
    "N = int(input())\n",
    "input_list = list(map(int,input().split()))\n",
    "cnt = 0\n",
    "\n",
    "for number in input_list:\n",
    "    if number==1:\n",
    "        continue\n",
    "    else:\n",
    "        for divider in range(2,number):\n",
    "            if number%divider==0:\n",
    "                break\n",
    "        cnt += 1\n",
    "print(cnt)"
   ]
  },
  {
   "cell_type": "code",
   "execution_count": 31,
   "id": "c62529be",
   "metadata": {},
   "outputs": [
    {
     "name": "stdout",
     "output_type": "stream",
     "text": [
      "4\n",
      "1 3 5 7 29\n",
      "4\n"
     ]
    }
   ],
   "source": [
    "N = int(input())\n",
    "input_list = list(map(int,input().split()))\n",
    "cnt = 0\n",
    "\n",
    "for number in input_list:\n",
    "    if number==1:\n",
    "        continue\n",
    "    else:\n",
    "        for divider in range(2,number):\n",
    "            if number%divider==0:\n",
    "                break\n",
    "        cnt += 1\n",
    "        \n",
    "print(cnt)"
   ]
  },
  {
   "cell_type": "code",
   "execution_count": null,
   "id": "cda44ecf",
   "metadata": {},
   "outputs": [],
   "source": [
    "N = int(input())\n",
    "input_list = list(map(int,input().split()))\n",
    "cnt = 0\n",
    "\n",
    "def check_prime_number(input_list):\n",
    "    for i in input_list:\n",
    "        if i!=1:\n",
    "            for j in range(2,i):\n",
    "                remainder = i%j"
   ]
  },
  {
   "cell_type": "code",
   "execution_count": 36,
   "id": "e9661eff",
   "metadata": {},
   "outputs": [
    {
     "name": "stdout",
     "output_type": "stream",
     "text": [
      "4\n",
      "1 3 5 7\n",
      "3\n"
     ]
    }
   ],
   "source": [
    "N = int(input())\n",
    "input_list = list(map(int,input().split()))\n",
    "cnt = 0\n",
    "\n",
    "for number in input_list:\n",
    "    prime_number = True\n",
    "    if number!=1:\n",
    "        for divider in range(2,number):\n",
    "            if number%divider==0:\n",
    "                prime_number=False\n",
    "                break\n",
    "        if prime_number:\n",
    "            cnt += 1\n",
    "        \n",
    "print(cnt)"
   ]
  },
  {
   "cell_type": "code",
   "execution_count": null,
   "id": "a3cb7e9e",
   "metadata": {},
   "outputs": [],
   "source": []
  }
 ],
 "metadata": {
  "kernelspec": {
   "display_name": "Python 3",
   "language": "python",
   "name": "python3"
  },
  "language_info": {
   "codemirror_mode": {
    "name": "ipython",
    "version": 3
   },
   "file_extension": ".py",
   "mimetype": "text/x-python",
   "name": "python",
   "nbconvert_exporter": "python",
   "pygments_lexer": "ipython3",
   "version": "3.8.8"
  }
 },
 "nbformat": 4,
 "nbformat_minor": 5
}
