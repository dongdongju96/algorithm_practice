{
 "cells": [
  {
   "cell_type": "markdown",
   "id": "6d99fcc0",
   "metadata": {},
   "source": [
    "# 첫 시도"
   ]
  },
  {
   "cell_type": "code",
   "execution_count": 19,
   "id": "46712c4e",
   "metadata": {},
   "outputs": [
    {
     "name": "stdout",
     "output_type": "stream",
     "text": [
      "4\n",
      "1\n",
      "3\n",
      "5\n",
      "7\n",
      "3\n"
     ]
    }
   ],
   "source": [
    "N = int(input())\n",
    "\n",
    "input_list = [int(input()) for _ in range(N)]\n",
    "cnt = 0\n",
    "\n",
    "for check in input_list:\n",
    "    if check == 1:\n",
    "        continue\n",
    "    for divider in range(2,check):\n",
    "        if check % divider != 0:\n",
    "            cnt += 1\n",
    "            break\n",
    "print(cnt)"
   ]
  },
  {
   "cell_type": "markdown",
   "id": "8867fe58",
   "metadata": {},
   "source": [
    "# 두 번째"
   ]
  },
  {
   "cell_type": "code",
   "execution_count": 24,
   "id": "9aab5fef",
   "metadata": {},
   "outputs": [
    {
     "name": "stdout",
     "output_type": "stream",
     "text": [
      "4\n",
      "1\n",
      "3\n",
      "5\n",
      "7\n",
      "3\n"
     ]
    }
   ],
   "source": [
    "N = int(input())\n",
    "\n",
    "input_list = [int(input()) for _ in range(N)]\n",
    "cnt = 0\n",
    "\n",
    "for check in input_list:\n",
    "    if check == 1:\n",
    "        continue\n",
    "    cnt += 1\n",
    "    \n",
    "    for divider in range(2,check):\n",
    "        if check % divider == 0:\n",
    "            cnt -= 1\n",
    "            break\n",
    "print(cnt)"
   ]
  }
 ],
 "metadata": {
  "kernelspec": {
   "display_name": "Python 3",
   "language": "python",
   "name": "python3"
  },
  "language_info": {
   "codemirror_mode": {
    "name": "ipython",
    "version": 3
   },
   "file_extension": ".py",
   "mimetype": "text/x-python",
   "name": "python",
   "nbconvert_exporter": "python",
   "pygments_lexer": "ipython3",
   "version": "3.8.8"
  }
 },
 "nbformat": 4,
 "nbformat_minor": 5
}
