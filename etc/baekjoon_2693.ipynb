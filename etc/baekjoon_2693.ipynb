{
 "cells": [
  {
   "cell_type": "markdown",
   "id": "2c3af844",
   "metadata": {},
   "source": [
    "# 시도"
   ]
  },
  {
   "cell_type": "code",
   "execution_count": null,
   "id": "0920ccc8",
   "metadata": {},
   "outputs": [],
   "source": [
    "N = int(input())\n",
    "\n",
    "for _ in range(N):\n",
    "    temp_list = list(map(int,input().split()))\n",
    "    pivot = len(temp_list) // 2\n",
    "    lower_list = []\n",
    "    upper_list = []\n",
    "    for i in range(len(temp_list)):\n",
    "        if temp_list[i] <= temp_list[pivot]:\n",
    "            lower_list.append(temp_list[i])\n",
    "        else:\n",
    "            upper_list.append(temp_list[i])\n",
    "    return lower_list + upper_list"
   ]
  },
  {
   "cell_type": "markdown",
   "id": "49fb2c4f",
   "metadata": {},
   "source": [
    "1 테스트 케이스 개수를 입력받는다\n",
    "2. 테스트 케이스 마다 3번째 큰 수를 찾는다.\n",
    "2-1 테이스 케이스 개수 만큼 반복한다\n",
    "2-2 배열을 입력 받는다\n",
    "2-3 배열을 정렬한다.\n",
    "2-3-1 배열을 pivot값을 찾는다\n",
    "2-3-2 배열의 pivot을 기준으로 작은 수는 왼쪽에 큰수는 오른쪽에 배치한다.\n",
    "2-3-2-1 작은수를 입력받을 리스트와 오른쪽에 입력받을 리스트를 만든다.\n",
    "\n"
   ]
  },
  {
   "cell_type": "markdown",
   "id": "b998e7ad",
   "metadata": {},
   "source": [
    "# 정답"
   ]
  },
  {
   "cell_type": "code",
   "execution_count": 5,
   "id": "94a4dc7f",
   "metadata": {},
   "outputs": [],
   "source": [
    "def quick_sort(input_list):\n",
    "    if len(input_list) <= 1:\n",
    "        return input_list\n",
    "    pivot = len(input_list) // 2\n",
    "    lower_list, pivot_list, upper_list = [], [], []\n",
    "    for i in input_list:\n",
    "        if i < input_list[pivot]:\n",
    "            lower_list.append(i)\n",
    "        elif i > input_list[pivot]:\n",
    "            upper_list.append(i)\n",
    "        else:\n",
    "            pivot_list.append(input_list[pivot])\n",
    "    return quick_sort(lower_list) + pivot_list + quick_sort(upper_list)\n",
    "\n",
    "N = int(input())\n",
    "for _ in range(N):\n",
    "    input_list = list(map(int,input().split()))\n",
    "    result_list = quick_sort(input_list)\n",
    "    print(result_list[-3])"
   ]
  },
  {
   "cell_type": "code",
   "execution_count": 6,
   "id": "eb54ebbf",
   "metadata": {},
   "outputs": [
    {
     "data": {
      "text/plain": [
       "[1, 2, 3, 4, 5]"
      ]
     },
     "execution_count": 6,
     "metadata": {},
     "output_type": "execute_result"
    }
   ],
   "source": [
    "quick_sort([3,2,5,1,4])"
   ]
  },
  {
   "cell_type": "code",
   "execution_count": null,
   "id": "83ce820b",
   "metadata": {},
   "outputs": [],
   "source": []
  }
 ],
 "metadata": {
  "kernelspec": {
   "display_name": "Python 3",
   "language": "python",
   "name": "python3"
  },
  "language_info": {
   "codemirror_mode": {
    "name": "ipython",
    "version": 3
   },
   "file_extension": ".py",
   "mimetype": "text/x-python",
   "name": "python",
   "nbconvert_exporter": "python",
   "pygments_lexer": "ipython3",
   "version": "3.8.8"
  }
 },
 "nbformat": 4,
 "nbformat_minor": 5
}
