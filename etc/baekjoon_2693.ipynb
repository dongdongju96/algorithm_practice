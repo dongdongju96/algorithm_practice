{
 "cells": [
  {
   "cell_type": "code",
   "execution_count": null,
   "id": "abf441e3",
   "metadata": {},
   "outputs": [],
   "source": [
    "N = int(input())\n",
    "\n",
    "for _ in range(N):\n",
    "    temp_list = list(map(int,input().split()))\n",
    "    pivot = len(temp_list) // 2\n",
    "    lower_list = []\n",
    "    upper_list = []\n",
    "    for i in range(len(temp_list)):\n",
    "        if temp_list[i] <= temp_list[pivot]:\n",
    "            lower_list.append(temp_list[i])\n",
    "        else:\n",
    "            upper_list.append(temp_list[i])\n",
    "    return lower_list + upper_list"
   ]
  },
  {
   "cell_type": "markdown",
   "id": "23eed98f",
   "metadata": {},
   "source": [
    "1 테스트 케이스 개수를 입력받는다\n",
    "2. 테스트 케이스 마다 3번째 큰 수를 찾는다.\n",
    "2-1 테이스 케이스 개수 만큼 반복한다\n",
    "2-2 배열을 입력 받는다\n",
    "2-3 배열을 정렬한다.\n",
    "2-3-1 배열을 pivot값을 찾는다\n",
    "2-3-2 배열의 pivot을 기준으로 작은 수는 왼쪽에 큰수는 오른쪽에 배치한다.\n",
    "2-3-2-1 작은수를 입력받을 리스트와 오른쪽에 입력받을 리스트를 만든다.\n",
    "\n"
   ]
  }
 ],
 "metadata": {
  "kernelspec": {
   "display_name": "Python 3",
   "language": "python",
   "name": "python3"
  },
  "language_info": {
   "codemirror_mode": {
    "name": "ipython",
    "version": 3
   },
   "file_extension": ".py",
   "mimetype": "text/x-python",
   "name": "python",
   "nbconvert_exporter": "python",
   "pygments_lexer": "ipython3",
   "version": "3.8.8"
  }
 },
 "nbformat": 4,
 "nbformat_minor": 5
}
