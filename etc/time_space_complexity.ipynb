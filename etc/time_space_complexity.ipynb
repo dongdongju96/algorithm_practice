{
 "cells": [
  {
   "cell_type": "markdown",
   "id": "f366728e",
   "metadata": {},
   "source": [
    "# 들어가기 전에"
   ]
  },
  {
   "cell_type": "markdown",
   "id": "23c0c630",
   "metadata": {},
   "source": [
    "코딩테스트 문제에는 제한 시간과 메모리가 존재한다.<p>\n",
    "제한 시간을 초과 하거나 메모리가 부족할 수 있기 때문에<p>\n",
    "두 제약을 초과하지 않는 적절한 알고리즘을 사용해야한다.<p>"
   ]
  },
  {
   "cell_type": "markdown",
   "id": "078ab9fc",
   "metadata": {},
   "source": [
    "# 시간복잡도"
   ]
  },
  {
   "cell_type": "markdown",
   "id": "d0432b59",
   "metadata": {},
   "source": [
    " 중첩 for문으로 인해서 제한 시간을 초과할 수 있다.<p>\n",
    " 빅오 표기법으로 중첩 for문 시간복잡도를 보자"
   ]
  },
  {
   "cell_type": "markdown",
   "id": "8599158d",
   "metadata": {},
   "source": [
    "> 단일 for문 : O(N)<p>\n",
    "> 이중 for문 : O(N^2)<p>\n",
    "> 삼중 for문 : O(N^3)"
   ]
  },
  {
   "cell_type": "markdown",
   "id": "e100f164",
   "metadata": {},
   "source": [
    "### N의 크기가 1000일 때 연산 횟수"
   ]
  },
  {
   "cell_type": "markdown",
   "id": "bc0b68da",
   "metadata": {},
   "source": [
    "- O(N) : 1000 (천)<p>\n",
    "- O(NlogN) : 10000 (만) <p>\n",
    "- O(N^2) : 1000000 (백만)<p>\n",
    "- O(N^3) : 1000000000 (십억)<p>"
   ]
  },
  {
   "cell_type": "markdown",
   "id": "1825c250",
   "metadata": {},
   "source": [
    "연산 횟수가 10억을 넘어가면 C언어 기준 통상 1초 이상의 시간이 소요된다. (파이썬은 더 소요됨)"
   ]
  },
  {
   "cell_type": "markdown",
   "id": "b3a7f733",
   "metadata": {},
   "source": [
    "# 기억"
   ]
  },
  {
   "cell_type": "markdown",
   "id": "f141ac77",
   "metadata": {},
   "source": [
    "- N의 범위가 500인 경우: 시간 복잡도가 O(N^3)인 알고리즘으로 설계해도 풀 수 있다.\n",
    "- N의 범위가 2000인 경우: 시간 복잡도가 O(N^2)인 알고리즘으로 설계해도 풀 수 있다.\n",
    "- N의 범위가 1000000(백만)인 경우: 시간 복잡도가 O(NlogN)인 알고리즘으로 설계해도 풀 수 있다.\n",
    "- N의 범위가 100000000(억)인 경우: 시간 복잡도가 O(N)인 알고리즘으로 설계해도 풀 수 있다."
   ]
  },
  {
   "cell_type": "markdown",
   "id": "4cb3ef73",
   "metadata": {},
   "source": [
    "# 공간복잡도"
   ]
  },
  {
   "cell_type": "markdown",
   "id": "443c9ebd",
   "metadata": {},
   "source": []
  }
 ],
 "metadata": {
  "kernelspec": {
   "display_name": "Python 3",
   "language": "python",
   "name": "python3"
  },
  "language_info": {
   "codemirror_mode": {
    "name": "ipython",
    "version": 3
   },
   "file_extension": ".py",
   "mimetype": "text/x-python",
   "name": "python",
   "nbconvert_exporter": "python",
   "pygments_lexer": "ipython3",
   "version": "3.8.8"
  }
 },
 "nbformat": 4,
 "nbformat_minor": 5
}
