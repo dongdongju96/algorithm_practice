{
 "cells": [
  {
   "cell_type": "code",
   "execution_count": 9,
   "id": "5599af4b",
   "metadata": {},
   "outputs": [
    {
     "name": "stdout",
     "output_type": "stream",
     "text": [
      "1 3\n",
      "1\n"
     ]
    }
   ],
   "source": [
    "A, B = map(int,input().split())\n",
    "\n",
    "max_dvisor = 0\n",
    "count = 1\n",
    "while count <= A and count <= B:\n",
    "    if A%count==0 and B%count==0:\n",
    "        max_dvisor = count\n",
    "    count += 1\n",
    "print(max_dvisor)\n",
    "\n"
   ]
  },
  {
   "cell_type": "code",
   "execution_count": 15,
   "id": "249fa057",
   "metadata": {},
   "outputs": [
    {
     "name": "stdout",
     "output_type": "stream",
     "text": [
      "15 9\n",
      "2025\n"
     ]
    }
   ],
   "source": [
    "A, B = map(int,input().split())\n",
    "\n",
    "A_dvisors = []\n",
    "B_dvisors = []\n",
    "min_multiply = 1\n",
    "for i in range(1, A+1):\n",
    "    if A%i==0:\n",
    "        for j in range(1,i+1):\n",
    "            if i%j==0 and j not in A_dvisors:\n",
    "                A_dvisors.append(j)\n",
    "for i in range(1, B+1):\n",
    "    if B%i==0:\n",
    "        for j in range(1,i+1):\n",
    "            if i%j==0 and j not in B_dvisors:\n",
    "                B_dvisors.append(j)\n",
    "if len(A_dvisors) >= len(B_dvisors):\n",
    "    for i in B_dvisors:\n",
    "        if i in A_dvisors:\n",
    "            pass\n",
    "        else:\n",
    "            A_dvisors.append(i)\n",
    "    for i in A_dvisors:\n",
    "        min_multiply *= i\n",
    "    print(min_multiply)\n",
    "else:\n",
    "    for i in A_dvisors:\n",
    "        if i in B_dvisors:\n",
    "            pass\n",
    "        else:\n",
    "            B_dvisors.append(i)\n",
    "    for i in B_dvisors:\n",
    "        min_multiply *= i\n",
    "    print(min_multiply)"
   ]
  },
  {
   "cell_type": "code",
   "execution_count": null,
   "id": "f4e09d27",
   "metadata": {},
   "outputs": [],
   "source": []
  }
 ],
 "metadata": {
  "kernelspec": {
   "display_name": "Python 3",
   "language": "python",
   "name": "python3"
  },
  "language_info": {
   "codemirror_mode": {
    "name": "ipython",
    "version": 3
   },
   "file_extension": ".py",
   "mimetype": "text/x-python",
   "name": "python",
   "nbconvert_exporter": "python",
   "pygments_lexer": "ipython3",
   "version": "3.8.8"
  }
 },
 "nbformat": 4,
 "nbformat_minor": 5
}
