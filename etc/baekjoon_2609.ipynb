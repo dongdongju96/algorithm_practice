{
 "cells": [
  {
   "cell_type": "markdown",
   "id": "7de17167",
   "metadata": {},
   "source": [
    "# 최대공약수"
   ]
  },
  {
   "cell_type": "code",
   "execution_count": 9,
   "id": "aede4bb7",
   "metadata": {
    "scrolled": true
   },
   "outputs": [
    {
     "name": "stdout",
     "output_type": "stream",
     "text": [
      "1 3\n",
      "1\n"
     ]
    }
   ],
   "source": [
    "A, B = map(int,input().split())\n",
    "\n",
    "max_dvisor = 0\n",
    "count = 1\n",
    "while count <= A and count <= B:\n",
    "    if A%count==0 and B%count==0:\n",
    "        max_dvisor = count\n",
    "    count += 1\n",
    "print(max_dvisor)\n",
    "\n"
   ]
  },
  {
   "cell_type": "markdown",
   "id": "31f0523a",
   "metadata": {},
   "source": [
    "# 최소공배수"
   ]
  },
  {
   "cell_type": "code",
   "execution_count": 15,
   "id": "729d127e",
   "metadata": {},
   "outputs": [
    {
     "name": "stdout",
     "output_type": "stream",
     "text": [
      "15 9\n",
      "2025\n"
     ]
    }
   ],
   "source": [
    "A, B = map(int,input().split())\n",
    "\n",
    "A_dvisors = []\n",
    "B_dvisors = []\n",
    "min_multiply = 1\n",
    "for i in range(1, A+1):\n",
    "    if A%i==0:\n",
    "        for j in range(1,i+1):\n",
    "            if i%j==0 and j not in A_dvisors:\n",
    "                A_dvisors.append(j)\n",
    "for i in range(1, B+1):\n",
    "    if B%i==0:\n",
    "        for j in range(1,i+1):\n",
    "            if i%j==0 and j not in B_dvisors:\n",
    "                B_dvisors.append(j)\n",
    "if len(A_dvisors) >= len(B_dvisors):\n",
    "    for i in B_dvisors:\n",
    "        if i in A_dvisors:\n",
    "            pass\n",
    "        else:\n",
    "            A_dvisors.append(i)\n",
    "    for i in A_dvisors:\n",
    "        min_multiply *= i\n",
    "    print(min_multiply)\n",
    "else:\n",
    "    for i in A_dvisors:\n",
    "        if i in B_dvisors:\n",
    "            pass\n",
    "        else:\n",
    "            B_dvisors.append(i)\n",
    "    for i in B_dvisors:\n",
    "        min_multiply *= i\n",
    "    print(min_multiply)"
   ]
  },
  {
   "cell_type": "markdown",
   "id": "22e6b529",
   "metadata": {},
   "source": [
    "# 유클리드 호제법"
   ]
  },
  {
   "cell_type": "markdown",
   "id": "6f526801",
   "metadata": {},
   "source": [
    "유클리드 천재"
   ]
  },
  {
   "cell_type": "code",
   "execution_count": 25,
   "id": "6d9a5934",
   "metadata": {},
   "outputs": [],
   "source": [
    "# 값 비교\n",
    "def compare_v(a,b):\n",
    "    if b > a:\n",
    "        temp = a\n",
    "        a = b\n",
    "        b = temp\n",
    "    return a,b\n",
    "\n",
    "# Greatest Common Dvisor\n",
    "def gcd(a,b):\n",
    "#     if b > a:\n",
    "#         temp = a\n",
    "#         a = b\n",
    "#         b = temp\n",
    "    r= a % b\n",
    "    if r==0:\n",
    "        return b\n",
    "    return gcd(b,r)\n",
    "\n",
    "# Least Common Multiple\n",
    "def lcm(a,b):\n",
    "    lcm = a*b // gcd(a,b) # 어차피 최대공약수로 나누기 때문에 나머지는 없을 것이다.\n",
    "    return lcm            # 실수형 보다 정수형몫을 구한다.   "
   ]
  },
  {
   "cell_type": "code",
   "execution_count": 27,
   "id": "05909d2a",
   "metadata": {},
   "outputs": [
    {
     "name": "stdout",
     "output_type": "stream",
     "text": [
      "24 18\n",
      "6 72\n"
     ]
    }
   ],
   "source": [
    "a ,b = map(int,input().split())\n",
    "a, b = compare_v(a,b)\n",
    "print(gcd(a,b))\n",
    "print(lcm(a,b))"
   ]
  },
  {
   "cell_type": "code",
   "execution_count": null,
   "id": "2917d229",
   "metadata": {},
   "outputs": [],
   "source": []
  }
 ],
 "metadata": {
  "kernelspec": {
   "display_name": "Python 3",
   "language": "python",
   "name": "python3"
  },
  "language_info": {
   "codemirror_mode": {
    "name": "ipython",
    "version": 3
   },
   "file_extension": ".py",
   "mimetype": "text/x-python",
   "name": "python",
   "nbconvert_exporter": "python",
   "pygments_lexer": "ipython3",
   "version": "3.8.8"
  }
 },
 "nbformat": 4,
 "nbformat_minor": 5
}
