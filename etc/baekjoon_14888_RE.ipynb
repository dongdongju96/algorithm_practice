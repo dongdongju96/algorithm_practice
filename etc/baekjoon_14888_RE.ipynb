{
 "cells": [
  {
   "cell_type": "markdown",
   "id": "9f3146d4",
   "metadata": {},
   "source": [
    "# 다시 풀어봐야 하는 문제    "
   ]
  },
  {
   "cell_type": "markdown",
   "id": "7b23b5a3",
   "metadata": {},
   "source": [
    "## 따라했는데 실패가 나왔다 왜 실패일까"
   ]
  },
  {
   "cell_type": "code",
   "execution_count": null,
   "id": "2f6fe6a7",
   "metadata": {},
   "outputs": [],
   "source": [
    "import sys\n",
    "input = sys.stdin.readline\n",
    "\n",
    "def cal(num, idx, add, sub, multi, division):\n",
    "    global n, maxv, minv\n",
    "    if idx==n:\n",
    "        maxv = maxv(num,maxv)\n",
    "        minv = minv(num,minv)\n",
    "        return\n",
    "    else:\n",
    "        if add:\n",
    "            cal(num + num_list[idx], idx + 1, add-1, sub, multi, division)\n",
    "        elif sub:\n",
    "            cal(num - num_list[idx], idx + 1, add, sub-1, multi, division)\n",
    "        elif multi:\n",
    "            cal(num * num_list[idx], idx + 1, add, sub, multi-1, division)\n",
    "        elif division:\n",
    "            cal(int(num/num_list[idx]), idx + 1, add, sub, multi, division-1)\n",
    "            \n",
    "if __nmae__==\"__main__\":\n",
    "    maxv = -sys.maxsize-1\n",
    "    minv = sys.maxsize\n",
    "    n = int(input()) # 숫자의 수\n",
    "    n_list = list(map(int, input().split()))\n",
    "    a, b, c, d = map(int,input().split())\n",
    "    cal(num_list[0],1,a,b,c,d)\n",
    "    print(maxv)\n",
    "    print(minv)"
   ]
  },
  {
   "cell_type": "markdown",
   "id": "13647fb1",
   "metadata": {},
   "source": [
    "## 정답 풀이"
   ]
  },
  {
   "cell_type": "code",
   "execution_count": null,
   "id": "11d8f4f5",
   "metadata": {},
   "outputs": [],
   "source": []
  }
 ],
 "metadata": {
  "kernelspec": {
   "display_name": "Python 3",
   "language": "python",
   "name": "python3"
  },
  "language_info": {
   "codemirror_mode": {
    "name": "ipython",
    "version": 3
   },
   "file_extension": ".py",
   "mimetype": "text/x-python",
   "name": "python",
   "nbconvert_exporter": "python",
   "pygments_lexer": "ipython3",
   "version": "3.8.8"
  }
 },
 "nbformat": 4,
 "nbformat_minor": 5
}
