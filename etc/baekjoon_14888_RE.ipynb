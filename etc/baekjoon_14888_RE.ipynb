{
 "cells": [
  {
   "cell_type": "markdown",
   "id": "4881632c",
   "metadata": {},
   "source": [
    "# 다시 풀어봐야 하는 문제    "
   ]
  },
  {
   "cell_type": "markdown",
   "id": "b7dc94e3",
   "metadata": {},
   "source": [
    "## 따라했는데 실패가 나왔다 왜 실패일까"
   ]
  },
  {
   "cell_type": "code",
   "execution_count": null,
   "id": "2f6fe6a7",
   "metadata": {},
   "outputs": [],
   "source": [
    "import sys\n",
    "input = sys.stdin.readline\n",
    "\n",
    "def cal(num, idx, add, sub, multi, division):\n",
    "    global n, maxv, minv\n",
    "    if idx==n:\n",
    "        maxv = maxv(num,maxv)\n",
    "        minv = minv(num,minv)\n",
    "        return\n",
    "    else:\n",
    "        if add:\n",
    "            cal(num + num_list[idx], idx + 1, add-1, sub, multi, division)\n",
    "        if sub:\n",
    "            cal(num - num_list[idx], idx + 1, add, sub-1, multi, division)\n",
    "        if multi:\n",
    "            cal(num * num_list[idx], idx + 1, add, sub, multi-1, division)\n",
    "        if division:\n",
    "            cal(int(num/num_list[idx]), idx + 1, add, sub, multi, division-1)\n",
    "            \n",
    "if __nmae__==\"__main__\":\n",
    "    maxv = -sys.maxsize-1\n",
    "    minv = sys.maxsize\n",
    "    n = int(input()) # 숫자의 수\n",
    "    n_list = list(map(int, input().split()))\n",
    "    a, b, c, d = map(int,input().split())\n",
    "    cal(num_list[0],1,a,b,c,d)\n",
    "    print(maxv)\n",
    "    print(minv)"
   ]
  },
  {
   "cell_type": "markdown",
   "id": "ef2357dc",
   "metadata": {},
   "source": [
    "## 정답 풀이"
   ]
  },
  {
   "cell_type": "code",
   "execution_count": null,
   "id": "0b2bb2b4",
   "metadata": {},
   "outputs": [],
   "source": [
    "def dfs(index,res):\n",
    "    global maxv, minv\n",
    "    # 계산의 끝에 도달했을 때 최댓값과 최솟값이 될 수 있는지 판단한다.\n",
    "    if index==N-1:\n",
    "        if minv > res:\n",
    "            minv = res\n",
    "        if maxv < res:\n",
    "            maxv = res\n",
    "        return res\n",
    "    for i in range(4):\n",
    "        temp_res = res\n",
    "        # 연산자 없으면 다음 연산자로\n",
    "        if operator[i]==0:\n",
    "            continue\n",
    "        if i==0:\n",
    "            res += num_list[index+1]\n",
    "        elif i==1:\n",
    "            res -= num_list[index+1]\n",
    "        elif i==2:\n",
    "            res *= num_list[index+1]\n",
    "        else:\n",
    "            if res<0:\n",
    "                res = abs(res)//num_list[index+1]*-1\n",
    "            else:\n",
    "                res //= num_list[index+1]\n",
    "        # 연산자 한번 사용해서 제거\n",
    "        operator[i] -= 1\n",
    "        dfs(index+1,res)\n",
    "        operator[i] += 1\n",
    "        res = temp_res\n",
    "\n",
    "N = int(input())\n",
    "num_list = list(map(int,input().split()))\n",
    "operator = list(map(int,input().split()))\n",
    "minv = float('inf')\n",
    "maxv = float('-inf')\n",
    "\n",
    "dfs(0,num_list[0])\n",
    "print(maxv)\n",
    "print(minv)"
   ]
  }
 ],
 "metadata": {
  "kernelspec": {
   "display_name": "Python 3",
   "language": "python",
   "name": "python3"
  },
  "language_info": {
   "codemirror_mode": {
    "name": "ipython",
    "version": 3
   },
   "file_extension": ".py",
   "mimetype": "text/x-python",
   "name": "python",
   "nbconvert_exporter": "python",
   "pygments_lexer": "ipython3",
   "version": "3.8.8"
  }
 },
 "nbformat": 4,
 "nbformat_minor": 5
}
