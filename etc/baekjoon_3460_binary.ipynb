{
 "cells": [
  {
   "cell_type": "code",
   "execution_count": 15,
   "id": "497b1cf7",
   "metadata": {},
   "outputs": [
    {
     "name": "stdout",
     "output_type": "stream",
     "text": [
      "1\n",
      "13\n",
      "0 2 3 "
     ]
    }
   ],
   "source": [
    "T = int(input())\n",
    "\n",
    "index = 0\n",
    "\n",
    "for _ in range(T):\n",
    "    N = int(input())\n",
    "    while 1:\n",
    "        if N%2==1:\n",
    "            print(index, end=' ')\n",
    "        elif N//2==0:\n",
    "            break\n",
    "        index += 1\n",
    "        N = N//2"
   ]
  },
  {
   "cell_type": "markdown",
   "id": "7cfa2f3d",
   "metadata": {},
   "source": [
    "# 두번째 시도"
   ]
  },
  {
   "cell_type": "code",
   "execution_count": 26,
   "id": "5b9dab1a",
   "metadata": {},
   "outputs": [
    {
     "name": "stdout",
     "output_type": "stream",
     "text": [
      "1\n",
      "13\n",
      "0 2 3 "
     ]
    }
   ],
   "source": [
    "T = int(input())\n",
    "N = list(map(int, input().split()))\n",
    "index = 0\n",
    "\n",
    "for num in N:\n",
    "    while  num!=0:\n",
    "        if num%2==1:\n",
    "            print(index, end=' ')\n",
    "        elif num//2==0:\n",
    "            break\n",
    "        index += 1\n",
    "        num = num//2"
   ]
  },
  {
   "cell_type": "markdown",
   "id": "22305678",
   "metadata": {},
   "source": [
    "# 세번째 시도"
   ]
  },
  {
   "cell_type": "code",
   "execution_count": 22,
   "id": "e18f0251",
   "metadata": {},
   "outputs": [
    {
     "name": "stdout",
     "output_type": "stream",
     "text": [
      "1\n",
      "13\n",
      "0 2 3 "
     ]
    }
   ],
   "source": [
    "T = int(input())\n",
    "N = list(map(int, input().split()))\n",
    "index = 0\n",
    "\n",
    "for num in N:\n",
    "    while num !=0:\n",
    "        if num%2==1:\n",
    "            print(index, end=' ')\n",
    "        index += 1\n",
    "        num = num//2"
   ]
  },
  {
   "cell_type": "markdown",
   "id": "13d2b034",
   "metadata": {},
   "source": [
    "# 정답 풀이를 보고"
   ]
  },
  {
   "cell_type": "code",
   "execution_count": 25,
   "id": "d81c0c72",
   "metadata": {},
   "outputs": [
    {
     "name": "stdout",
     "output_type": "stream",
     "text": [
      "1\n",
      "25\n",
      "0 3 4 "
     ]
    }
   ],
   "source": [
    "def binary(n):\n",
    "    i = 0\n",
    "    while n != 0:\n",
    "        if n % 2 == 1:\n",
    "            print(i, end=\" \")\n",
    "        n //= 2\n",
    "        i += 1\n",
    "\n",
    "for _ in range(int(input())):\n",
    "    binary(int(input()))"
   ]
  },
  {
   "cell_type": "markdown",
   "id": "ea8e081d",
   "metadata": {},
   "source": [
    "뭐가 다른거지...."
   ]
  },
  {
   "cell_type": "markdown",
   "id": "88c54a4f",
   "metadata": {},
   "source": [
    "# 다르게 시도해봄"
   ]
  },
  {
   "cell_type": "markdown",
   "id": "5bff764e",
   "metadata": {},
   "source": [
    "index 위치를 바꾸고 해결"
   ]
  },
  {
   "cell_type": "code",
   "execution_count": 34,
   "id": "9fac8f2b",
   "metadata": {},
   "outputs": [
    {
     "name": "stdout",
     "output_type": "stream",
     "text": [
      "1\n",
      "13\n",
      "0 2 3 "
     ]
    }
   ],
   "source": [
    "T = int(input())\n",
    "\n",
    "for _ in range(T):\n",
    "    index = 0\n",
    "    N = int(input())\n",
    "    while N !=0:\n",
    "        if N%2==1:\n",
    "            print(index, end=' ')\n",
    "        N = N//2\n",
    "        index += 1"
   ]
  }
 ],
 "metadata": {
  "kernelspec": {
   "display_name": "Python 3",
   "language": "python",
   "name": "python3"
  },
  "language_info": {
   "codemirror_mode": {
    "name": "ipython",
    "version": 3
   },
   "file_extension": ".py",
   "mimetype": "text/x-python",
   "name": "python",
   "nbconvert_exporter": "python",
   "pygments_lexer": "ipython3",
   "version": "3.8.8"
  }
 },
 "nbformat": 4,
 "nbformat_minor": 5
}
