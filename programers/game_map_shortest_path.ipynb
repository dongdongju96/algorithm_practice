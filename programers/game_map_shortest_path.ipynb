{
 "cells": [
  {
   "cell_type": "code",
   "execution_count": 1,
   "id": "c42f4d5a",
   "metadata": {},
   "outputs": [],
   "source": [
    "from collections import deque"
   ]
  },
  {
   "cell_type": "code",
   "execution_count": 52,
   "id": "24498f82",
   "metadata": {},
   "outputs": [],
   "source": [
    "def solution(maps):\n",
    "    # 방문 체크 변수 생성을 위한 크기 체크\n",
    "    len_x = len(maps[0])\n",
    "    len_y = len(maps)\n",
    "    # 이동을 위한 변수 생성\n",
    "    dx = [0, 0, -1, 1]\n",
    "    dy = [1, -1, 0, 0]\n",
    "    # 방문 체크를 위한 변수 생성\n",
    "#     visited = [[0 for _ in range(len_x)]] * len_y\n",
    "    visited = [[0]*len_x for _ in range(len_y)]\n",
    "    # (0,0)에서 시작, 시작 점 1칸으로 세기\n",
    "    que = deque([(0,0,1)])\n",
    "    \n",
    "    while que:\n",
    "        print(que)\n",
    "        x, y, cnt = que.popleft()\n",
    "        # x,y 위치 이동하면서 cnt 늘리기\n",
    "        for m in range(len(dx)):\n",
    "            x += dx[m]\n",
    "            y += dy[m]\n",
    "            print(x,y)\n",
    "            \n",
    "            if (0<=x<len_x) and (0<=y<len_y) and (maps[x][y] > 0) and (visited[x][y]==0):\n",
    "                    cnt += 1\n",
    "                    visited[x][y] = cnt\n",
    "                    que.append((x,y,cnt))\n",
    "                    \n",
    "    return visited"
   ]
  },
  {
   "cell_type": "code",
   "execution_count": 145,
   "id": "99c073ba",
   "metadata": {},
   "outputs": [],
   "source": [
    "visited1 = [[0 for _ in range(4)]]*3\n",
    "visited2 = [[0]*4 for _ in range(3)]\n",
    "\n",
    "visited3 = [[0 for _ in range(4)]]*3\n",
    "visited4 = [[0]*4 for _ in range(3)]"
   ]
  },
  {
   "cell_type": "code",
   "execution_count": 156,
   "id": "d1c52910",
   "metadata": {},
   "outputs": [
    {
     "name": "stdout",
     "output_type": "stream",
     "text": [
      "[[0, 0, 0, 0], [0, 0, 0, 0], [0, 0, 0, 0]]\n",
      "[[0, 0, 0, 0], [0, 0, 0, 0], [0, 0, 0, 0]]\n",
      "          \n",
      "[[0, 1, 0, 0], [0, 1, 0, 0], [0, 1, 0, 0]]\n",
      "[[0, 0, 0, 0], [0, 1, 0, 0], [0, 0, 0, 0]]\n"
     ]
    }
   ],
   "source": [
    "visited1 = [[0 for _ in range(4)]]*3\n",
    "visited2 = [[0]*4 for _ in range(3)]\n",
    "\n",
    "print(visited1)\n",
    "print(visited2)\n",
    "print(' '* 10)\n",
    "visited1[1][1] += 1\n",
    "visited2[1][1] += 1\n",
    "print(visited1)\n",
    "print(visited2)"
   ]
  },
  {
   "cell_type": "code",
   "execution_count": 138,
   "id": "d44b6e3c",
   "metadata": {},
   "outputs": [
    {
     "data": {
      "text/plain": [
       "True"
      ]
     },
     "execution_count": 138,
     "metadata": {},
     "output_type": "execute_result"
    }
   ],
   "source": [
    "visited1==visited2"
   ]
  },
  {
   "cell_type": "code",
   "execution_count": 139,
   "id": "e729c5af",
   "metadata": {},
   "outputs": [
    {
     "data": {
      "text/plain": [
       "False"
      ]
     },
     "execution_count": 139,
     "metadata": {},
     "output_type": "execute_result"
    }
   ],
   "source": [
    "visited1 is visited2"
   ]
  },
  {
   "cell_type": "code",
   "execution_count": 140,
   "id": "3a05e57c",
   "metadata": {},
   "outputs": [
    {
     "data": {
      "text/plain": [
       "False"
      ]
     },
     "execution_count": 140,
     "metadata": {},
     "output_type": "execute_result"
    }
   ],
   "source": [
    "visited1 is visited3"
   ]
  },
  {
   "cell_type": "code",
   "execution_count": 137,
   "id": "e7df3aac",
   "metadata": {},
   "outputs": [
    {
     "name": "stdout",
     "output_type": "stream",
     "text": [
      "140162247995648\n",
      "140162247995712\n"
     ]
    }
   ],
   "source": [
    "print(id(visited3))\n",
    "print(id(visited4))"
   ]
  },
  {
   "cell_type": "code",
   "execution_count": 127,
   "id": "06d78192",
   "metadata": {},
   "outputs": [
    {
     "data": {
      "text/plain": [
       "[[0, 0, 0, 0], [0, 0, 0, 0], [0, 0, 0, 0]]"
      ]
     },
     "execution_count": 127,
     "metadata": {},
     "output_type": "execute_result"
    }
   ],
   "source": [
    "visited1"
   ]
  },
  {
   "cell_type": "code",
   "execution_count": 128,
   "id": "345bc58a",
   "metadata": {},
   "outputs": [
    {
     "data": {
      "text/plain": [
       "[[0, 0, 0, 0], [0, 0, 0, 0], [0, 0, 0, 0]]"
      ]
     },
     "execution_count": 128,
     "metadata": {},
     "output_type": "execute_result"
    }
   ],
   "source": [
    "visited2"
   ]
  },
  {
   "cell_type": "code",
   "execution_count": 129,
   "id": "a01fa1cf",
   "metadata": {},
   "outputs": [],
   "source": [
    "visited1[1][1] += 1\n",
    "visited2[1][1] += 1"
   ]
  },
  {
   "cell_type": "code",
   "execution_count": 148,
   "id": "67bd68ec",
   "metadata": {},
   "outputs": [],
   "source": [
    "visited1[2][3] = 4"
   ]
  },
  {
   "cell_type": "code",
   "execution_count": 149,
   "id": "f1730101",
   "metadata": {},
   "outputs": [
    {
     "data": {
      "text/plain": [
       "[[0, 0, 0, 4], [0, 0, 0, 4], [0, 0, 0, 4]]"
      ]
     },
     "execution_count": 149,
     "metadata": {},
     "output_type": "execute_result"
    }
   ],
   "source": [
    "visited1"
   ]
  },
  {
   "cell_type": "code",
   "execution_count": 151,
   "id": "2b6604c5",
   "metadata": {},
   "outputs": [
    {
     "name": "stdout",
     "output_type": "stream",
     "text": [
      "[0, 0, 0, 4]\n",
      "[0, 0, 0, 4]\n",
      "[0, 0, 0, 4]\n"
     ]
    }
   ],
   "source": [
    "for i in range(3):\n",
    "    print(visited1[i])"
   ]
  },
  {
   "cell_type": "code",
   "execution_count": 131,
   "id": "7e8d25fb",
   "metadata": {},
   "outputs": [
    {
     "data": {
      "text/plain": [
       "[[0, 0, 0, 0], [0, 1, 0, 0], [0, 0, 0, 0]]"
      ]
     },
     "execution_count": 131,
     "metadata": {},
     "output_type": "execute_result"
    }
   ],
   "source": [
    "visited2"
   ]
  },
  {
   "cell_type": "code",
   "execution_count": 25,
   "id": "74504239",
   "metadata": {},
   "outputs": [],
   "source": [
    "maps = [[1,0,1,1,1],[1,0,1,0,1],[1,0,1,1,1],[1,1,1,0,1],[0,0,0,0,1]]"
   ]
  },
  {
   "cell_type": "code",
   "execution_count": 26,
   "id": "1aff5454",
   "metadata": {},
   "outputs": [
    {
     "data": {
      "text/plain": [
       "[[1, 0, 1, 1, 1],\n",
       " [1, 0, 1, 0, 1],\n",
       " [1, 0, 1, 1, 1],\n",
       " [1, 1, 1, 0, 1],\n",
       " [0, 0, 0, 0, 1]]"
      ]
     },
     "execution_count": 26,
     "metadata": {},
     "output_type": "execute_result"
    }
   ],
   "source": [
    "maps"
   ]
  },
  {
   "cell_type": "code",
   "execution_count": 53,
   "id": "c4531698",
   "metadata": {},
   "outputs": [
    {
     "name": "stdout",
     "output_type": "stream",
     "text": [
      "deque([(0, 0, 1)])\n",
      "0 1\n",
      "0 0\n",
      "-1 0\n",
      "0 0\n",
      "deque([(0, 0, 2)])\n",
      "0 1\n",
      "0 0\n",
      "-1 0\n",
      "0 0\n"
     ]
    },
    {
     "data": {
      "text/plain": [
       "[[2, 0, 0, 0, 0],\n",
       " [0, 0, 0, 0, 0],\n",
       " [0, 0, 0, 0, 0],\n",
       " [0, 0, 0, 0, 0],\n",
       " [0, 0, 0, 0, 0]]"
      ]
     },
     "execution_count": 53,
     "metadata": {},
     "output_type": "execute_result"
    }
   ],
   "source": [
    "solution(maps)"
   ]
  },
  {
   "cell_type": "code",
   "execution_count": 51,
   "id": "085a9cdc",
   "metadata": {},
   "outputs": [
    {
     "ename": "NameError",
     "evalue": "name 'que' is not defined",
     "output_type": "error",
     "traceback": [
      "\u001b[0;31m---------------------------------------------------------------------------\u001b[0m",
      "\u001b[0;31mNameError\u001b[0m                                 Traceback (most recent call last)",
      "\u001b[0;32m/var/folders/84/r1v1cbv15qv_ft1zjbp_lnf00000gq/T/ipykernel_76193/2475144464.py\u001b[0m in \u001b[0;36m<module>\u001b[0;34m\u001b[0m\n\u001b[0;32m----> 1\u001b[0;31m \u001b[0mque\u001b[0m\u001b[0;34m\u001b[0m\u001b[0;34m\u001b[0m\u001b[0m\n\u001b[0m",
      "\u001b[0;31mNameError\u001b[0m: name 'que' is not defined"
     ]
    }
   ],
   "source": [
    "que"
   ]
  },
  {
   "cell_type": "code",
   "execution_count": 37,
   "id": "b53de609",
   "metadata": {},
   "outputs": [],
   "source": [
    "def solution(maps):\n",
    "    # 방문 체크 변수 생성을 위한 크기 체크\n",
    "    len_x = len(maps[0])\n",
    "    len_y = len(maps)\n",
    "    # 이동을 위한 변수 생성\n",
    "    dx = [0, 0, -1, 1]\n",
    "    dy = [1, -1, 0, 0]\n",
    "    # 방문 체크를 위한 변수 생성\n",
    "    visited = [[0 for _ in range(len_x)]] * len_y\n",
    "    # (0,0)에서 시작, 시작 점 1칸으로 세기\n",
    "    que = deque([(0,0,1)])\n",
    "    \n",
    "    while que:\n",
    "#         print(que)\n",
    "        x, y, cnt = que.popleft()\n",
    "        # x,y 위치 이동하면서 cnt 늘리기\n",
    "        for m in range(len(dx)):\n",
    "            x += dx[m]\n",
    "            y += dy[m]\n",
    "#             print(x,y)\n",
    "            \n",
    "            if (0<=x<len_x) and (0<=y<len_y) and (maps[x][y] > 0):\n",
    "                    cnt += 1\n",
    "                    visited[x][y] = cnt\n",
    "                    que.append((x,y,cnt))\n",
    "                    \n",
    "    return visited"
   ]
  },
  {
   "cell_type": "code",
   "execution_count": 38,
   "id": "4bade6d1",
   "metadata": {},
   "outputs": [
    {
     "ename": "KeyboardInterrupt",
     "evalue": "",
     "output_type": "error",
     "traceback": [
      "\u001b[0;31m---------------------------------------------------------------------------\u001b[0m",
      "\u001b[0;31mKeyboardInterrupt\u001b[0m                         Traceback (most recent call last)",
      "\u001b[0;32m/var/folders/84/r1v1cbv15qv_ft1zjbp_lnf00000gq/T/ipykernel_76193/268616633.py\u001b[0m in \u001b[0;36m<module>\u001b[0;34m\u001b[0m\n\u001b[0;32m----> 1\u001b[0;31m \u001b[0msolution\u001b[0m\u001b[0;34m(\u001b[0m\u001b[0mmaps\u001b[0m\u001b[0;34m)\u001b[0m\u001b[0;34m\u001b[0m\u001b[0;34m\u001b[0m\u001b[0m\n\u001b[0m",
      "\u001b[0;32m/var/folders/84/r1v1cbv15qv_ft1zjbp_lnf00000gq/T/ipykernel_76193/3054780690.py\u001b[0m in \u001b[0;36msolution\u001b[0;34m(maps)\u001b[0m\n\u001b[1;32m     23\u001b[0m                     \u001b[0mcnt\u001b[0m \u001b[0;34m+=\u001b[0m \u001b[0;36m1\u001b[0m\u001b[0;34m\u001b[0m\u001b[0;34m\u001b[0m\u001b[0m\n\u001b[1;32m     24\u001b[0m                     \u001b[0mvisited\u001b[0m\u001b[0;34m[\u001b[0m\u001b[0mx\u001b[0m\u001b[0;34m]\u001b[0m\u001b[0;34m[\u001b[0m\u001b[0my\u001b[0m\u001b[0;34m]\u001b[0m \u001b[0;34m=\u001b[0m \u001b[0mcnt\u001b[0m\u001b[0;34m\u001b[0m\u001b[0;34m\u001b[0m\u001b[0m\n\u001b[0;32m---> 25\u001b[0;31m                     \u001b[0mque\u001b[0m\u001b[0;34m.\u001b[0m\u001b[0mappend\u001b[0m\u001b[0;34m(\u001b[0m\u001b[0;34m(\u001b[0m\u001b[0mx\u001b[0m\u001b[0;34m,\u001b[0m\u001b[0my\u001b[0m\u001b[0;34m,\u001b[0m\u001b[0mcnt\u001b[0m\u001b[0;34m)\u001b[0m\u001b[0;34m)\u001b[0m\u001b[0;34m\u001b[0m\u001b[0;34m\u001b[0m\u001b[0m\n\u001b[0m\u001b[1;32m     26\u001b[0m \u001b[0;34m\u001b[0m\u001b[0m\n\u001b[1;32m     27\u001b[0m     \u001b[0;32mreturn\u001b[0m \u001b[0mvisited\u001b[0m\u001b[0;34m\u001b[0m\u001b[0;34m\u001b[0m\u001b[0m\n",
      "\u001b[0;31mKeyboardInterrupt\u001b[0m: "
     ]
    }
   ],
   "source": [
    "solution(maps)"
   ]
  },
  {
   "cell_type": "code",
   "execution_count": 80,
   "id": "409d32c7",
   "metadata": {},
   "outputs": [],
   "source": [
    "def solution(maps):\n",
    "    # 방문 체크 변수 생성을 위한 크기 체크\n",
    "    len_x = len(maps[0])\n",
    "    len_y = len(maps)\n",
    "    # 이동을 위한 변수 생성\n",
    "    dx = [0, 0, -1, 1]\n",
    "    dy = [1, -1, 0, 0]\n",
    "    # 방문 체크를 위한 변수 생성\n",
    "#     visited = [[0 for _ in range(len_x)]] * len_y\n",
    "    visited = [[0]*len_x for _ in range(len_y)]\n",
    "    # (0,0)에서 시작, 시작 점 1칸으로 세기\n",
    "    que = deque([(0,0,1)])\n",
    "    while que:\n",
    "        print(que)\n",
    "        x, y, cnt = que.popleft()\n",
    "        # x,y 위치 이동하면서 cnt 늘리기\n",
    "        for m in range(len(dx)):\n",
    "            mx = x + dx[m]\n",
    "            my = y + dy[m]\n",
    "            \n",
    "            if (0<=mx<len_x) and (0<=my<len_y) and (maps[mx][my] > 0) and (visited[mx][my]==0):\n",
    "#                 print(visited)\n",
    "                cnt += 1\n",
    "                visited[mx][my] = cnt\n",
    "                que.append((mx,my,cnt))\n",
    "                    \n",
    "    return visited"
   ]
  },
  {
   "cell_type": "code",
   "execution_count": 81,
   "id": "a4a3c41a",
   "metadata": {},
   "outputs": [
    {
     "name": "stdout",
     "output_type": "stream",
     "text": [
      "deque([(0, 0, 1)])\n",
      "deque([(1, 0, 2)])\n",
      "deque([(0, 0, 3), (2, 0, 4)])\n",
      "deque([(2, 0, 4)])\n",
      "deque([(3, 0, 5)])\n",
      "deque([(3, 1, 6)])\n",
      "deque([(3, 2, 7)])\n",
      "deque([(2, 2, 8)])\n",
      "deque([(2, 3, 9), (1, 2, 10)])\n",
      "deque([(1, 2, 10), (2, 4, 10)])\n",
      "deque([(2, 4, 10), (0, 2, 11)])\n",
      "deque([(0, 2, 11), (1, 4, 11), (3, 4, 12)])\n",
      "deque([(1, 4, 11), (3, 4, 12), (0, 3, 12)])\n",
      "deque([(3, 4, 12), (0, 3, 12), (0, 4, 12)])\n",
      "deque([(0, 3, 12), (0, 4, 12), (4, 4, 13)])\n",
      "deque([(0, 4, 12), (4, 4, 13)])\n",
      "deque([(4, 4, 13)])\n"
     ]
    },
    {
     "data": {
      "text/plain": [
       "[[3, 0, 11, 12, 12],\n",
       " [2, 0, 10, 0, 11],\n",
       " [4, 0, 8, 9, 10],\n",
       " [5, 6, 7, 0, 12],\n",
       " [0, 0, 0, 0, 13]]"
      ]
     },
     "execution_count": 81,
     "metadata": {},
     "output_type": "execute_result"
    }
   ],
   "source": [
    "solution(maps)"
   ]
  },
  {
   "cell_type": "code",
   "execution_count": 92,
   "id": "475294af",
   "metadata": {},
   "outputs": [],
   "source": [
    "def solution(maps):\n",
    "    # 방문 체크 변수 생성을 위한 크기 체크\n",
    "    len_x = len(maps[0])\n",
    "    len_y = len(maps)\n",
    "    # 이동을 위한 변수 생성\n",
    "    dx = [0, 0, -1, 1]\n",
    "    dy = [1, -1, 0, 0]\n",
    "    # 방문 체크를 위한 변수 생성\n",
    "    visited = [[0]*len_x for _ in range(len_y)]\n",
    "    # (0,0)에서 시작, 시작 점 1칸으로 세기\n",
    "    visited[0][0]=1\n",
    "    que = deque([(0,0,1)])\n",
    "    while que:\n",
    "        print(que)\n",
    "        x, y, cnt = que.popleft()\n",
    "        # x,y 위치 이동하면서 cnt 늘리기\n",
    "        for m in range(len(dx)):\n",
    "            mx = x + dx[m]\n",
    "            my = y + dy[m]\n",
    "            \n",
    "            if (0<=mx<len_x) and (0<=my<len_y) and (maps[mx][my] > 0) and (visited[mx][my]==0):\n",
    "                visited[mx][my] = cnt + 1\n",
    "                que.append((mx,my,cnt + 1))\n",
    "                \n",
    "    return visited\n"
   ]
  },
  {
   "cell_type": "code",
   "execution_count": 96,
   "id": "3f8a715c",
   "metadata": {},
   "outputs": [
    {
     "name": "stdout",
     "output_type": "stream",
     "text": [
      "deque([(0, 0, 1)])\n",
      "deque([(1, 0, 2)])\n",
      "deque([(2, 0, 3)])\n",
      "deque([(3, 0, 4)])\n",
      "deque([(3, 1, 5)])\n",
      "deque([(3, 2, 6)])\n",
      "deque([(2, 2, 7)])\n",
      "deque([(2, 3, 8), (1, 2, 8)])\n",
      "deque([(1, 2, 8), (2, 4, 9)])\n",
      "deque([(2, 4, 9), (0, 2, 9)])\n",
      "deque([(0, 2, 9), (1, 4, 10), (3, 4, 10)])\n",
      "deque([(1, 4, 10), (3, 4, 10), (0, 3, 10)])\n",
      "deque([(3, 4, 10), (0, 3, 10), (0, 4, 11)])\n",
      "deque([(0, 3, 10), (0, 4, 11), (4, 4, 11)])\n",
      "deque([(0, 4, 11), (4, 4, 11)])\n",
      "deque([(4, 4, 11)])\n"
     ]
    }
   ],
   "source": [
    "visited = solution(maps)"
   ]
  },
  {
   "cell_type": "code",
   "execution_count": 119,
   "id": "8141f737",
   "metadata": {},
   "outputs": [],
   "source": [
    "def solution(maps):\n",
    "    # 방문 체크 변수 생성을 위한 크기 체크\n",
    "    len_x = len(maps[0])\n",
    "    len_y = len(maps)\n",
    "    \n",
    "    if (maps[len_x-2][len_y-1] == 0) and (maps[len_x-1][len_y-2]==0):\n",
    "        return -1\n",
    "    else:\n",
    "        # 이동을 위한 변수 생성\n",
    "        dx = [0, 0, -1, 1]\n",
    "        dy = [1, -1, 0, 0]\n",
    "        # 방문 체크를 위한 변수 생성\n",
    "        visited = [[0]*len_x for _ in range(len_y)]\n",
    "        # (0,0)에서 시작, 시작 점 1칸으로 세기\n",
    "        visited[0][0]=1\n",
    "        que = deque([(0,0,1)])\n",
    "        while que:\n",
    "\n",
    "            x, y, cnt = que.popleft()\n",
    "            # x,y 위치 이동하면서 cnt 늘리기\n",
    "            for m in range(len(dx)):\n",
    "                mx = x + dx[m]\n",
    "                my = y + dy[m]\n",
    "\n",
    "                if (0<=mx<len_x) and (0<=my<len_y) and (maps[mx][my] > 0) and (visited[mx][my]==0):\n",
    "                    visited[mx][my] = cnt + 1\n",
    "                    que.append((mx,my,cnt + 1))\n",
    "\n",
    "        return visited[len_x-1][len_y-1]"
   ]
  },
  {
   "cell_type": "code",
   "execution_count": 120,
   "id": "998aed1a",
   "metadata": {},
   "outputs": [],
   "source": [
    "maps= [[1,0,1,1,1],[1,0,1,0,1],[1,0,1,1,1],[1,1,1,0,0],[0,0,0,0,1]]"
   ]
  },
  {
   "cell_type": "code",
   "execution_count": 121,
   "id": "5fd6ea16",
   "metadata": {},
   "outputs": [
    {
     "data": {
      "text/plain": [
       "-1"
      ]
     },
     "execution_count": 121,
     "metadata": {},
     "output_type": "execute_result"
    }
   ],
   "source": [
    "solution(maps)"
   ]
  },
  {
   "cell_type": "code",
   "execution_count": 122,
   "id": "9ef4b706",
   "metadata": {},
   "outputs": [],
   "source": [
    "maps = [[1,0,1,1,1],[1,0,1,0,1],[1,0,1,1,1],[1,1,1,0,1],[0,0,0,0,1]]"
   ]
  },
  {
   "cell_type": "code",
   "execution_count": 123,
   "id": "a8d9a662",
   "metadata": {},
   "outputs": [
    {
     "data": {
      "text/plain": [
       "11"
      ]
     },
     "execution_count": 123,
     "metadata": {},
     "output_type": "execute_result"
    }
   ],
   "source": [
    "solution(maps)"
   ]
  },
  {
   "cell_type": "code",
   "execution_count": 124,
   "id": "a9fdada9",
   "metadata": {},
   "outputs": [],
   "source": [
    "def solution(maps):\n",
    "    # 방문 체크 변수 생성을 위한 크기 체크\n",
    "    len_x = len(maps[0])\n",
    "    len_y = len(maps)\n",
    "    \n",
    "    # 이동을 위한 변수 생성\n",
    "    dx = [0, 0, -1, 1]\n",
    "    dy = [1, -1, 0, 0]\n",
    "    # 방문 체크를 위한 변수 생성\n",
    "    visited = [[0]*len_x for _ in range(len_y)]\n",
    "    # (0,0)에서 시작, 시작 점 1칸으로 세기\n",
    "    visited[0][0]=1\n",
    "    que = deque([(0,0,1)])\n",
    "    while que:\n",
    "\n",
    "        x, y, cnt = que.popleft()\n",
    "        # x,y 위치 이동하면서 cnt 늘리기\n",
    "        for m in range(len(dx)):\n",
    "            mx = x + dx[m]\n",
    "            my = y + dy[m]\n",
    "\n",
    "            if (0<=mx<len_x) and (0<=my<len_y) and (maps[mx][my] > 0) and (visited[mx][my]==0):\n",
    "                visited[mx][my] = cnt + 1\n",
    "                que.append((mx,my,cnt + 1))\n",
    "    if visited[len_x-1][len_y-1] == 0:\n",
    "        return -1\n",
    "    else:\n",
    "        return visited[len_x-1][len_y-1]"
   ]
  },
  {
   "cell_type": "code",
   "execution_count": 132,
   "id": "348b1445",
   "metadata": {},
   "outputs": [
    {
     "data": {
      "text/plain": [
       "11"
      ]
     },
     "execution_count": 132,
     "metadata": {},
     "output_type": "execute_result"
    }
   ],
   "source": [
    "maps = [[1,0,1,1,1],[1,0,1,0,1],[1,0,1,1,1],[1,1,1,0,1],[0,0,0,0,1]]\n",
    "solution(maps)"
   ]
  },
  {
   "cell_type": "code",
   "execution_count": 133,
   "id": "5504356e",
   "metadata": {},
   "outputs": [
    {
     "data": {
      "text/plain": [
       "-1"
      ]
     },
     "execution_count": 133,
     "metadata": {},
     "output_type": "execute_result"
    }
   ],
   "source": [
    "maps= [[1,0,1,1,1],[1,0,1,0,1],[1,0,1,1,1],[1,1,1,0,0],[0,0,0,0,1]]\n",
    "solution(maps)"
   ]
  },
  {
   "cell_type": "markdown",
   "id": "4ab72b5f",
   "metadata": {},
   "source": [
    "# 완료"
   ]
  },
  {
   "cell_type": "markdown",
   "id": "847eb946",
   "metadata": {},
   "source": [
    "x,y 좌표를 사용할 때는 [y][x]가 되어야한다."
   ]
  },
  {
   "cell_type": "code",
   "execution_count": null,
   "id": "b51969e1",
   "metadata": {},
   "outputs": [],
   "source": [
    "from collections import deque\n",
    "\n",
    "def solution(maps):\n",
    "    # 방문 체크 변수 생성을 위한 크기 체크\n",
    "    len_x = len(maps[0])\n",
    "    len_y = len(maps)\n",
    "    \n",
    "    # 이동을 위한 변수 생성\n",
    "    dx = [0, 0, -1, 1]\n",
    "    dy = [1, -1, 0, 0]\n",
    "    # 방문 체크를 위한 변수 생성\n",
    "    visited = [[0]*len_x for _ in range(len_y)]\n",
    "    # (0,0)에서 시작, 시작 점 1칸으로 세기\n",
    "    visited[0][0]=1\n",
    "    que = deque([(0,0,1)])\n",
    "    while que:\n",
    "        x, y, cnt = que.popleft()\n",
    "        # x,y 위치 이동하면서 cnt 늘리기\n",
    "        for m in range(len(dx)):\n",
    "            mx = x + dx[m]\n",
    "            my = y + dy[m]\n",
    "            if (0<=mx<len_x) and (0<=my<len_y) and (maps[my][mx] > 0) and (visited[my][mx]==0):\n",
    "                visited[my][mx] = cnt + 1\n",
    "                que.append((mx,my,cnt + 1))\n",
    "    if visited[len_y-1][len_x-1] == 0:\n",
    "        return -1\n",
    "    else:\n",
    "        return visited[len_y-1][len_x-1]"
   ]
  }
 ],
 "metadata": {
  "hide_input": false,
  "kernelspec": {
   "display_name": "Python 3 (ipykernel)",
   "language": "python",
   "name": "python3"
  },
  "language_info": {
   "codemirror_mode": {
    "name": "ipython",
    "version": 3
   },
   "file_extension": ".py",
   "mimetype": "text/x-python",
   "name": "python",
   "nbconvert_exporter": "python",
   "pygments_lexer": "ipython3",
   "version": "3.9.7"
  }
 },
 "nbformat": 4,
 "nbformat_minor": 5
}
