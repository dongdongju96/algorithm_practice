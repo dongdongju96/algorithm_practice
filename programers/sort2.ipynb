{
 "cells": [
  {
   "cell_type": "markdown",
   "id": "b1c1dda2",
   "metadata": {},
   "source": [
    "텍스트를 *3 해서 비교한다는 것을 보고"
   ]
  },
  {
   "cell_type": "markdown",
   "id": "48157519",
   "metadata": {},
   "source": [
    "numbers = 0~1000 까지 가능하기 때문에 한자리 수를 생각해서 *3을 해준다."
   ]
  },
  {
   "cell_type": "markdown",
   "id": "efbc17be",
   "metadata": {},
   "source": [
    "str으로 변환해서 비교하면 '333' > '1000'"
   ]
  },
  {
   "cell_type": "code",
   "execution_count": null,
   "id": "1dfddf70",
   "metadata": {},
   "outputs": [],
   "source": [
    "# 실패\n",
    "\n",
    "def solution(numbers):\n",
    "    answer = ''\n",
    "    numbers = list(map(str,numbers))\n",
    "    numbers = sorted(numbers,key=lambda x: x*3,reverse=True)\n",
    "    answer = ''.join(numbers)\n",
    "    return answer"
   ]
  },
  {
   "cell_type": "code",
   "execution_count": null,
   "id": "63da6298",
   "metadata": {},
   "outputs": [],
   "source": [
    "def solution(numbers):\n",
    "    answer = ''\n",
    "    numbers = list(map(str,numbers))\n",
    "    numbers = sorted(numbers,key=lambda x: x*3,reverse=True)\n",
    "    answer = str(int(''.join(numbers))) # '000' 을 '0'으로 바꾸기 위해 int로 바꾼 뒤 str로 바꾼다고 한다. 왜 이러지??\n",
    "    return answer"
   ]
  }
 ],
 "metadata": {
  "kernelspec": {
   "display_name": "Python 3 (ipykernel)",
   "language": "python",
   "name": "python3"
  },
  "language_info": {
   "codemirror_mode": {
    "name": "ipython",
    "version": 3
   },
   "file_extension": ".py",
   "mimetype": "text/x-python",
   "name": "python",
   "nbconvert_exporter": "python",
   "pygments_lexer": "ipython3",
   "version": "3.9.7"
  }
 },
 "nbformat": 4,
 "nbformat_minor": 5
}
