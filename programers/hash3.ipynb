{
 "cells": [
  {
   "cell_type": "code",
   "execution_count": 7,
   "id": "7dd338f4",
   "metadata": {},
   "outputs": [],
   "source": [
    "# 확인\n",
    "# clothes = [[\"yellowhat\", \"headgear\"], [\"bluesunglasses\", \"eyewear\"], [\"green_turban\", \"headgear\"]]\n",
    "# hash_map = {}\n",
    "# for cloth in clothes:\n",
    "#     if cloth[1] not in hash_map.keys():\n",
    "#         hash_map[cloth[1]] = 1\n",
    "#     else:\n",
    "#         hash_map[cloth[1]] += 1\n",
    "# print(hash_map)\n",
    "# temp = 1\n",
    "# for val in hash_map.values():\n",
    "#     print(temp)\n",
    "#     temp *= val\n",
    "# answer = len(hash_map.keys()) + temp"
   ]
  },
  {
   "cell_type": "code",
   "execution_count": null,
   "id": "5ff56c8d",
   "metadata": {},
   "outputs": [],
   "source": [
    "# 오답\n",
    "def solution(clothes):\n",
    "    answer = 0\n",
    "    hash_map = {}\n",
    "    for cloth in clothes:\n",
    "        if cloth[1] not in hash_map.keys():\n",
    "            hash_map[cloth[1]] = 1\n",
    "        else:\n",
    "            hash_map[cloth[1]] += 1\n",
    "    defalut = 0\n",
    "    case = 1\n",
    "    for val in hash_map.values():\n",
    "        defalut += val\n",
    "        case *= val\n",
    "    if len(hash_map.keys())==1:\n",
    "        answer = defalut\n",
    "    else:\n",
    "        answer = defalut + case\n",
    "    return answer"
   ]
  },
  {
   "cell_type": "code",
   "execution_count": null,
   "id": "686beab6",
   "metadata": {},
   "outputs": [],
   "source": [
    "# 정답\n",
    "def solution(clothes):\n",
    "    answer = 0\n",
    "    hash_map = {}\n",
    "    for cloth in clothes:\n",
    "        if cloth[1] not in hash_map.keys():\n",
    "            hash_map[cloth[1]] = 1\n",
    "        else:\n",
    "            hash_map[cloth[1]] += 1\n",
    "    case = 1\n",
    "    for val in hash_map.values():\n",
    "        case *= (val+1)\n",
    "    answer = case\n",
    "    return answer - 1"
   ]
  },
  {
   "cell_type": "markdown",
   "id": "e544df91",
   "metadata": {},
   "source": [
    "경우의 수를 잘 생각하면 맞출 수 있었던 문제."
   ]
  },
  {
   "cell_type": "markdown",
   "id": "31456ade",
   "metadata": {},
   "source": [
    "[참고사이트](https://velog.io/@devjuun_s/위장-프로그래머스)"
   ]
  }
 ],
 "metadata": {
  "kernelspec": {
   "display_name": "Python 3 (ipykernel)",
   "language": "python",
   "name": "python3"
  },
  "language_info": {
   "codemirror_mode": {
    "name": "ipython",
    "version": 3
   },
   "file_extension": ".py",
   "mimetype": "text/x-python",
   "name": "python",
   "nbconvert_exporter": "python",
   "pygments_lexer": "ipython3",
   "version": "3.9.7"
  }
 },
 "nbformat": 4,
 "nbformat_minor": 5
}
