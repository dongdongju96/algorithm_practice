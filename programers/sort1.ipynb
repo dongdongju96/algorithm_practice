{
 "cells": [
  {
   "cell_type": "code",
   "execution_count": 5,
   "id": "4f15fe00",
   "metadata": {},
   "outputs": [],
   "source": [
    "# 확인\n",
    "# array = [1, 5, 2, 6, 3, 7, 4]\n",
    "# commands = [[2, 5, 3], [4, 4, 1], [1, 7, 3]]\n",
    "\n",
    "# answer = []\n",
    "# for command in commands:\n",
    "#     if len(array)==command[1]:\n",
    "#         print(command)\n",
    "#         temp = sorted(array[command[0]-1:])\n",
    "#         print(temp)\n",
    "#         answer.append(temp[command[2]-1])\n",
    "#     else:\n",
    "#         print(command)\n",
    "#         temp = sorted(array[command[0]-1:command[1]])\n",
    "#         print(temp)\n",
    "#         answer.append(temp[command[2]-1])\n",
    "#     print(answer)"
   ]
  },
  {
   "cell_type": "code",
   "execution_count": null,
   "id": "31feb030",
   "metadata": {},
   "outputs": [],
   "source": [
    "# 정답\n",
    "# sort() 사용\n",
    "def solution(array, commands):\n",
    "    answer = []\n",
    "    for command in commands:\n",
    "        if len(array)==command[1]:\n",
    "            temp = sorted(array[command[0]-1:])\n",
    "            answer.append(temp[command[2]-1])\n",
    "        else:\n",
    "            temp = sorted(array[command[0]-1:command[1]])\n",
    "            answer.append(temp[command[2]-1])\n",
    "    return answer"
   ]
  },
  {
   "cell_type": "code",
   "execution_count": null,
   "id": "621c4361",
   "metadata": {},
   "outputs": [],
   "source": [
    "# 이렇게 해도 됐다.\n",
    "def solution(array, commands):\n",
    "    answer = []\n",
    "    for command in commands:\n",
    "        temp = sorted(array[command[0]-1:command[1]])\n",
    "        answer.append(temp[command[2]-1])\n",
    "    return answer"
   ]
  }
 ],
 "metadata": {
  "kernelspec": {
   "display_name": "Python 3 (ipykernel)",
   "language": "python",
   "name": "python3"
  },
  "language_info": {
   "codemirror_mode": {
    "name": "ipython",
    "version": 3
   },
   "file_extension": ".py",
   "mimetype": "text/x-python",
   "name": "python",
   "nbconvert_exporter": "python",
   "pygments_lexer": "ipython3",
   "version": "3.9.7"
  }
 },
 "nbformat": 4,
 "nbformat_minor": 5
}
