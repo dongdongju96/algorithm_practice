{
 "cells": [
  {
   "cell_type": "code",
   "execution_count": null,
   "id": "26fa67cd",
   "metadata": {},
   "outputs": [],
   "source": [
    "# 다른사람의 풀이\n",
    "def solution(genres, plays):\n",
    "    answer = []\n",
    "    hash_map_1 = {}\n",
    "    hash_map_count = {}\n",
    "    for i, (g, p) in enumerate(zip(genres, plays)):\n",
    "        if g not in hash_map_1:\n",
    "            hash_map_1[g] = [(i,p)]\n",
    "        else:\n",
    "            hash_map_1[g].append((i,p))\n",
    "        if g not in hash_map_count:\n",
    "            hash_map_count[g] = p\n",
    "        else:\n",
    "            hash_map_count[g] += p\n",
    "    for (k,v) in sorted(hash_map_count.items(), key=lambda x:x[1],reverse=True):\n",
    "        for (i,p) in sorted(hash_map_1[k], key=lambda x:x[1], reverse=True)[:2]:\n",
    "            answer.append(i)\n",
    "    \n",
    "    return answer"
   ]
  }
 ],
 "metadata": {
  "kernelspec": {
   "display_name": "Python 3 (ipykernel)",
   "language": "python",
   "name": "python3"
  },
  "language_info": {
   "codemirror_mode": {
    "name": "ipython",
    "version": 3
   },
   "file_extension": ".py",
   "mimetype": "text/x-python",
   "name": "python",
   "nbconvert_exporter": "python",
   "pygments_lexer": "ipython3",
   "version": "3.9.7"
  }
 },
 "nbformat": 4,
 "nbformat_minor": 5
}
