{
 "cells": [
  {
   "cell_type": "code",
   "execution_count": null,
   "id": "c4e6ac2c",
   "metadata": {},
   "outputs": [],
   "source": [
    "# 풀이를 생각하다가 1시간이 지남.\n",
    "# def solution(priorities, location):\n",
    "#     answer = 0\n",
    "#     temp_list = list(map(str,priorities))\n",
    "#     point = priorities[location]\n",
    "#     for \n",
    "    \n",
    "    \n",
    "#     def list_divide(temp_list):\n",
    "#         left_list = temp_list[:temp_list.index(max(temp_list))]\n",
    "#         right_list = temp_list[temp_list.index(max(temp_list)):]\n",
    "#         return left_list, right_list\n",
    "    \n",
    "#     return answer"
   ]
  }
 ],
 "metadata": {
  "kernelspec": {
   "display_name": "Python 3 (ipykernel)",
   "language": "python",
   "name": "python3"
  },
  "language_info": {
   "codemirror_mode": {
    "name": "ipython",
    "version": 3
   },
   "file_extension": ".py",
   "mimetype": "text/x-python",
   "name": "python",
   "nbconvert_exporter": "python",
   "pygments_lexer": "ipython3",
   "version": "3.9.7"
  }
 },
 "nbformat": 4,
 "nbformat_minor": 5
}
