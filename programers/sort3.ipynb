{
 "cells": [
  {
   "cell_type": "markdown",
   "id": "9da016be",
   "metadata": {},
   "source": [
    "다른 삶의 풀이를 살펴 보고 난 후"
   ]
  },
  {
   "cell_type": "code",
   "execution_count": null,
   "id": "e699e323",
   "metadata": {},
   "outputs": [],
   "source": [
    "# 오답\n",
    "# 출력 값에 잘못된 값을 넣었다.\n",
    "def solution(citations):\n",
    "    answer = 0\n",
    "    citations.sort()\n",
    "    article = len(citations)\n",
    "    for idx in range(article):\n",
    "        if citations[idx] >= article-idx:\n",
    "            answer = citations[idx]\n",
    "            return answer\n",
    "    return 0"
   ]
  },
  {
   "cell_type": "code",
   "execution_count": null,
   "id": "c85b98fc",
   "metadata": {},
   "outputs": [],
   "source": [
    "# 정답\n",
    "def solution(citations):\n",
    "    answer = 0\n",
    "    citations.sort()\n",
    "    article = len(citations)\n",
    "    for idx in range(article):\n",
    "        if citations[idx] >= article-idx:\n",
    "            answer = article-idx\n",
    "            return answer\n",
    "    return answer"
   ]
  }
 ],
 "metadata": {
  "kernelspec": {
   "display_name": "Python 3 (ipykernel)",
   "language": "python",
   "name": "python3"
  },
  "language_info": {
   "codemirror_mode": {
    "name": "ipython",
    "version": 3
   },
   "file_extension": ".py",
   "mimetype": "text/x-python",
   "name": "python",
   "nbconvert_exporter": "python",
   "pygments_lexer": "ipython3",
   "version": "3.9.7"
  }
 },
 "nbformat": 4,
 "nbformat_minor": 5
}
