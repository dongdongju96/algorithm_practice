{
 "cells": [
  {
   "cell_type": "markdown",
   "id": "99d0d7ad",
   "metadata": {},
   "source": [
    "다른 삶의 풀이를 살펴 보고 난 후"
   ]
  },
  {
   "cell_type": "code",
   "execution_count": null,
   "id": "cfc2a136",
   "metadata": {},
   "outputs": [],
   "source": [
    "# 오답\n",
    "def solution(citations):\n",
    "    answer = 0\n",
    "    citations.sort()\n",
    "    article = len(citations)\n",
    "    for idx in range(article):\n",
    "        if citations[idx] >= article-idx:\n",
    "            answer = citations[idx]\n",
    "            return answer\n",
    "    return 0"
   ]
  }
 ],
 "metadata": {
  "kernelspec": {
   "display_name": "Python 3 (ipykernel)",
   "language": "python",
   "name": "python3"
  },
  "language_info": {
   "codemirror_mode": {
    "name": "ipython",
    "version": 3
   },
   "file_extension": ".py",
   "mimetype": "text/x-python",
   "name": "python",
   "nbconvert_exporter": "python",
   "pygments_lexer": "ipython3",
   "version": "3.9.7"
  }
 },
 "nbformat": 4,
 "nbformat_minor": 5
}
