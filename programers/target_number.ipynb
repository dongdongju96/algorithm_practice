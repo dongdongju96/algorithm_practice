{
 "cells": [
  {
   "cell_type": "code",
   "execution_count": 1,
   "id": "3644dba0",
   "metadata": {},
   "outputs": [],
   "source": [
    "from collections import deque"
   ]
  },
  {
   "cell_type": "code",
   "execution_count": 28,
   "id": "1e7031f4",
   "metadata": {},
   "outputs": [],
   "source": [
    "def solution(numbers, target):\n",
    "    answer = 0\n",
    "    cur_sum = 0\n",
    "    num_index = 0\n",
    "    \n",
    "    que = deque([(cur_sum,num_index)])\n",
    "    \n",
    "    while que:\n",
    "        cur_sum, num_index = que.popleft()\n",
    "        if num_index == len(numbers):\n",
    "            if cur_sum==target:\n",
    "                answer = answer + 1\n",
    "                \n",
    "        else:\n",
    "            cur_num =  numbers[num_index]\n",
    "            que.append((cur_sum + cur_num,num_index+1))\n",
    "            que.append((cur_sum - cur_num,num_index+1))\n",
    "            \n",
    "    return answer"
   ]
  },
  {
   "cell_type": "code",
   "execution_count": 29,
   "id": "65b928a1",
   "metadata": {},
   "outputs": [
    {
     "data": {
      "text/plain": [
       "5"
      ]
     },
     "execution_count": 29,
     "metadata": {},
     "output_type": "execute_result"
    }
   ],
   "source": [
    "solution([1, 1, 1, 1, 1],3)"
   ]
  },
  {
   "cell_type": "code",
   "execution_count": 25,
   "id": "b380dad4",
   "metadata": {},
   "outputs": [
    {
     "data": {
      "text/plain": [
       "2"
      ]
     },
     "execution_count": 25,
     "metadata": {},
     "output_type": "execute_result"
    }
   ],
   "source": [
    "solution([4, 1, 2, 1], 4)"
   ]
  },
  {
   "cell_type": "code",
   "execution_count": null,
   "id": "ef143e8e",
   "metadata": {},
   "outputs": [],
   "source": []
  }
 ],
 "metadata": {
  "hide_input": false,
  "kernelspec": {
   "display_name": "Python 3 (ipykernel)",
   "language": "python",
   "name": "python3"
  },
  "language_info": {
   "codemirror_mode": {
    "name": "ipython",
    "version": 3
   },
   "file_extension": ".py",
   "mimetype": "text/x-python",
   "name": "python",
   "nbconvert_exporter": "python",
   "pygments_lexer": "ipython3",
   "version": "3.9.7"
  }
 },
 "nbformat": 4,
 "nbformat_minor": 5
}
