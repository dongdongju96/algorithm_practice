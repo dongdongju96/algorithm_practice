{
 "cells": [
  {
   "cell_type": "markdown",
   "id": "5486bd82",
   "metadata": {},
   "source": [
    "정렬 후 startswith로 비교."
   ]
  },
  {
   "cell_type": "markdown",
   "id": "af08c97e",
   "metadata": {},
   "source": [
    "인덱스 넘버에 주의해야한다."
   ]
  },
  {
   "cell_type": "markdown",
   "id": "0b1ed6a3",
   "metadata": {},
   "source": [
    "정렬 후에, 바로 다음 index의 number와 startswith 함수로 비교해서 예외가 없을 것이라는 것을 보장 할 수 있을까"
   ]
  },
  {
   "cell_type": "code",
   "execution_count": 1,
   "id": "4e563028",
   "metadata": {},
   "outputs": [],
   "source": [
    "def solution(phone_book):\n",
    "    phone_book.sort()\n",
    "    answer = True\n",
    "    for idx in range(len(phone_book)-1):\n",
    "        if phone_book[idx+1].startswith(phone_book[idx]):\n",
    "            answer = False\n",
    "    return answer"
   ]
  },
  {
   "cell_type": "markdown",
   "id": "d8331da0",
   "metadata": {},
   "source": [
    "해시 사용 정답"
   ]
  },
  {
   "cell_type": "code",
   "execution_count": null,
   "id": "66537803",
   "metadata": {},
   "outputs": [],
   "source": [
    "# 실패\n",
    "#  def solution(phone_book):\n",
    "#     answer = True\n",
    "#     phone_book.sort()\n",
    "#     hash_map = {}\n",
    "#     for number in phone_book:\n",
    "#         hash_map[number] = 1\n",
    "#     for number in phone_book:\n",
    "#         temp = \"\"\n",
    "#         for number_part in number:\n",
    "#             temp += number_part\n",
    "#             if temp in hash_map.keys() and temp != number_part:\n",
    "#                 answer = False\n",
    "#     return answer\n",
    "\n",
    "def solution(phone_book):\n",
    "    answer = True\n",
    "    hash_map = {}\n",
    "    phone_book.sort()\n",
    "    # 해시 생성\n",
    "    for number in phone_book:\n",
    "        hash_map[number] = 1\n",
    "    for number in phone_book:\n",
    "        temp = \"\"\n",
    "        # temp에 number를 하나씩 추가하면서 앞부분이 일치하는지 확인\n",
    "        for number_part in number:\n",
    "            temp += number_part\n",
    "            # 자기 자신을 제외하고 일치하는 key값이 있는지 확인 후 리턴\n",
    "            if temp in hash_map.keys() and temp!=number:\n",
    "                return False\n",
    "    return answer"
   ]
  },
  {
   "cell_type": "markdown",
   "id": "eacfdcf3",
   "metadata": {},
   "source": [
    "[참고 사이트](https://coding-grandpa.tistory.com/86)"
   ]
  }
 ],
 "metadata": {
  "kernelspec": {
   "display_name": "Python 3 (ipykernel)",
   "language": "python",
   "name": "python3"
  },
  "language_info": {
   "codemirror_mode": {
    "name": "ipython",
    "version": 3
   },
   "file_extension": ".py",
   "mimetype": "text/x-python",
   "name": "python",
   "nbconvert_exporter": "python",
   "pygments_lexer": "ipython3",
   "version": "3.9.7"
  }
 },
 "nbformat": 4,
 "nbformat_minor": 5
}
