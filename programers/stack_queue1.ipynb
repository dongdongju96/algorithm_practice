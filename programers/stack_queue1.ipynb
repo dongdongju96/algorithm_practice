{
 "cells": [
  {
   "cell_type": "markdown",
   "id": "e6b0135e",
   "metadata": {},
   "source": [
    "논리적 사고나 검증 없이 이렇게 하면 되지 않을까? 라는 생각으로 코드를 써내려 간다."
   ]
  },
  {
   "cell_type": "code",
   "execution_count": null,
   "id": "e817b7eb",
   "metadata": {},
   "outputs": [],
   "source": [
    "# 오답\n",
    "def solution(progresses, speeds):\n",
    "    answer = []\n",
    "    day = 0\n",
    "    deploy_count = 0\n",
    "    for progress, speed in zip(progresses, speeds):\n",
    "        deploy = (100 - progress) - (day * speed)\n",
    "        if deploy <= 0:\n",
    "            deploy_count += 1\n",
    "            answer.append(deploy_count)\n",
    "            continue\n",
    "        else:\n",
    "            day += 1\n",
    "        \n",
    "    return answer"
   ]
  },
  {
   "cell_type": "code",
   "execution_count": null,
   "id": "a34c34c0",
   "metadata": {},
   "outputs": [],
   "source": [
    "# 다른 사람의 풀이를 참고해서 작성한 오답\n",
    "def solution(progresses, speeds):\n",
    "    answer = []\n",
    "    deploy_count = 1\n",
    "    day = (100-progresses[0])//speeds[0]\n",
    "    for idx in range(1,len(progresses)):\n",
    "        if day >= (100-progresses[idx])//speeds[idx]:\n",
    "            deploy_count += 1\n",
    "        else:\n",
    "            answer.append(deploy_count)\n",
    "            deploy_count = 1\n",
    "            day = (100-progresses[idx])//speeds[idx]\n",
    "            \n",
    "    answer.append(deploy_count)\n",
    "    return answer"
   ]
  },
  {
   "cell_type": "markdown",
   "id": "848b59b7",
   "metadata": {},
   "source": [
    "[출처](https://velog.io/@chaegil15/프로그래머스파이썬-스택큐-기능개발)"
   ]
  },
  {
   "cell_type": "code",
   "execution_count": null,
   "id": "9a0e8559",
   "metadata": {},
   "outputs": [],
   "source": [
    "# 정답\n",
    "def solution(progresses, speeds):\n",
    "    answer = []\n",
    "    day = 0\n",
    "    deploy_count = 0\n",
    "    while len(progresses)!=0:\n",
    "        deploy = (100-progresses[0])-(day*speeds[0])\n",
    "        if deploy <= 0:\n",
    "            progresses.pop(0)\n",
    "            speeds.pop(0)\n",
    "            deploy_count += 1\n",
    "        else:\n",
    "            if deploy_count > 0:\n",
    "                answer.append(deploy_count)\n",
    "                deploy_count = 0\n",
    "            day += 1\n",
    "    answer.append(deploy_count)    \n",
    "        \n",
    "    return answer"
   ]
  },
  {
   "cell_type": "markdown",
   "id": "44a2e13e",
   "metadata": {},
   "source": [
    "[출처](https://kyoung-jnn.tistory.com/entry/프로그래머스파이썬Python-기능개발-스택큐)"
   ]
  }
 ],
 "metadata": {
  "kernelspec": {
   "display_name": "Python 3 (ipykernel)",
   "language": "python",
   "name": "python3"
  },
  "language_info": {
   "codemirror_mode": {
    "name": "ipython",
    "version": 3
   },
   "file_extension": ".py",
   "mimetype": "text/x-python",
   "name": "python",
   "nbconvert_exporter": "python",
   "pygments_lexer": "ipython3",
   "version": "3.9.7"
  }
 },
 "nbformat": 4,
 "nbformat_minor": 5
}
